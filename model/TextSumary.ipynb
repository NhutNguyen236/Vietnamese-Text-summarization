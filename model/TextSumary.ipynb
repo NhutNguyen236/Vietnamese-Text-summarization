{
  "nbformat": 4,
  "nbformat_minor": 0,
  "metadata": {
    "accelerator": "GPU",
    "colab": {
      "name": "TextSumary.ipynb",
      "provenance": [],
      "collapsed_sections": []
    },
    "kernelspec": {
      "display_name": "Python 3",
      "name": "python3"
    },
    "language_info": {
      "name": "python"
    }
  },
  "cells": [
    {
      "cell_type": "code",
      "metadata": {
        "id": "Ah3Pur_EBE6q",
        "colab": {
          "base_uri": "https://localhost:8080/"
        },
        "outputId": "1710f202-eac1-419a-f279-e1bb50564dd7"
      },
      "source": [
        "!pip install pyvi\n",
        "!pip install pytorch\n",
        "!pip install underthesea\n",
        "!pip install keras\n",
        "!pip install pandas\n",
        "!pip install gensim\n",
        "\n",
        "import pyvi\n",
        "import nltk\n",
        "from underthesea import word_tokenize\n",
        "from tensorflow import keras\n",
        "from __future__ import print_function\n",
        "from keras.models import Model\n",
        "from keras.layers import Input, LSTM, Dense\n",
        "import numpy as np\n",
        "import io\n",
        "from pickle import load\n",
        "import warnings\n",
        "import pandas as pd\n",
        "warnings.filterwarnings(\"ignore\")\n"
      ],
      "execution_count": null,
      "outputs": [
        {
          "output_type": "stream",
          "text": [
            "Requirement already satisfied: pyvi in /usr/local/lib/python3.7/dist-packages (0.1)\n",
            "Requirement already satisfied: scikit-learn in /usr/local/lib/python3.7/dist-packages (from pyvi) (0.22.2.post1)\n",
            "Requirement already satisfied: sklearn-crfsuite in /usr/local/lib/python3.7/dist-packages (from pyvi) (0.3.6)\n",
            "Requirement already satisfied: numpy>=1.11.0 in /usr/local/lib/python3.7/dist-packages (from scikit-learn->pyvi) (1.19.5)\n",
            "Requirement already satisfied: scipy>=0.17.0 in /usr/local/lib/python3.7/dist-packages (from scikit-learn->pyvi) (1.4.1)\n",
            "Requirement already satisfied: joblib>=0.11 in /usr/local/lib/python3.7/dist-packages (from scikit-learn->pyvi) (1.0.1)\n",
            "Requirement already satisfied: tqdm>=2.0 in /usr/local/lib/python3.7/dist-packages (from sklearn-crfsuite->pyvi) (4.41.1)\n",
            "Requirement already satisfied: python-crfsuite>=0.8.3 in /usr/local/lib/python3.7/dist-packages (from sklearn-crfsuite->pyvi) (0.9.7)\n",
            "Requirement already satisfied: six in /usr/local/lib/python3.7/dist-packages (from sklearn-crfsuite->pyvi) (1.15.0)\n",
            "Requirement already satisfied: tabulate in /usr/local/lib/python3.7/dist-packages (from sklearn-crfsuite->pyvi) (0.8.9)\n",
            "Collecting pytorch\n",
            "  Using cached https://files.pythonhosted.org/packages/ee/67/f403d4ae6e9cd74b546ee88cccdb29b8415a9c1b3d80aebeb20c9ea91d96/pytorch-1.0.2.tar.gz\n",
            "Building wheels for collected packages: pytorch\n",
            "  Building wheel for pytorch (setup.py) ... \u001b[?25lerror\n",
            "\u001b[31m  ERROR: Failed building wheel for pytorch\u001b[0m\n",
            "\u001b[?25h  Running setup.py clean for pytorch\n",
            "Failed to build pytorch\n",
            "Installing collected packages: pytorch\n",
            "    Running setup.py install for pytorch ... \u001b[?25l\u001b[?25herror\n",
            "\u001b[31mERROR: Command errored out with exit status 1: /usr/bin/python3 -u -c 'import sys, setuptools, tokenize; sys.argv[0] = '\"'\"'/tmp/pip-install-ffce9_n_/pytorch/setup.py'\"'\"'; __file__='\"'\"'/tmp/pip-install-ffce9_n_/pytorch/setup.py'\"'\"';f=getattr(tokenize, '\"'\"'open'\"'\"', open)(__file__);code=f.read().replace('\"'\"'\\r\\n'\"'\"', '\"'\"'\\n'\"'\"');f.close();exec(compile(code, __file__, '\"'\"'exec'\"'\"'))' install --record /tmp/pip-record-tabf8n0p/install-record.txt --single-version-externally-managed --compile Check the logs for full command output.\u001b[0m\n",
            "Requirement already satisfied: underthesea in /usr/local/lib/python3.7/dist-packages (1.3.1)\n",
            "Requirement already satisfied: python-crfsuite>=0.9.6 in /usr/local/lib/python3.7/dist-packages (from underthesea) (0.9.7)\n",
            "Requirement already satisfied: Click>=6.0 in /usr/local/lib/python3.7/dist-packages (from underthesea) (7.1.2)\n",
            "Requirement already satisfied: unidecode in /usr/local/lib/python3.7/dist-packages (from underthesea) (1.2.0)\n",
            "Requirement already satisfied: torch<=1.5.1,>=1.1.0 in /usr/local/lib/python3.7/dist-packages (from underthesea) (1.5.1)\n",
            "Requirement already satisfied: nltk in /usr/local/lib/python3.7/dist-packages (from underthesea) (3.2.5)\n",
            "Requirement already satisfied: joblib in /usr/local/lib/python3.7/dist-packages (from underthesea) (1.0.1)\n",
            "Requirement already satisfied: seqeval in /usr/local/lib/python3.7/dist-packages (from underthesea) (1.2.2)\n",
            "Requirement already satisfied: tqdm in /usr/local/lib/python3.7/dist-packages (from underthesea) (4.41.1)\n",
            "Requirement already satisfied: PyYAML in /usr/local/lib/python3.7/dist-packages (from underthesea) (3.13)\n",
            "Requirement already satisfied: transformers<=3.5.1,>=3.5.0 in /usr/local/lib/python3.7/dist-packages (from underthesea) (3.5.1)\n",
            "Requirement already satisfied: requests in /usr/local/lib/python3.7/dist-packages (from underthesea) (2.23.0)\n",
            "Requirement already satisfied: scikit-learn in /usr/local/lib/python3.7/dist-packages (from underthesea) (0.22.2.post1)\n",
            "Requirement already satisfied: numpy in /usr/local/lib/python3.7/dist-packages (from torch<=1.5.1,>=1.1.0->underthesea) (1.19.5)\n",
            "Requirement already satisfied: future in /usr/local/lib/python3.7/dist-packages (from torch<=1.5.1,>=1.1.0->underthesea) (0.16.0)\n",
            "Requirement already satisfied: six in /usr/local/lib/python3.7/dist-packages (from nltk->underthesea) (1.15.0)\n",
            "Requirement already satisfied: filelock in /usr/local/lib/python3.7/dist-packages (from transformers<=3.5.1,>=3.5.0->underthesea) (3.0.12)\n",
            "Requirement already satisfied: sacremoses in /usr/local/lib/python3.7/dist-packages (from transformers<=3.5.1,>=3.5.0->underthesea) (0.0.45)\n",
            "Requirement already satisfied: sentencepiece==0.1.91 in /usr/local/lib/python3.7/dist-packages (from transformers<=3.5.1,>=3.5.0->underthesea) (0.1.91)\n",
            "Requirement already satisfied: regex!=2019.12.17 in /usr/local/lib/python3.7/dist-packages (from transformers<=3.5.1,>=3.5.0->underthesea) (2019.12.20)\n",
            "Requirement already satisfied: packaging in /usr/local/lib/python3.7/dist-packages (from transformers<=3.5.1,>=3.5.0->underthesea) (20.9)\n",
            "Requirement already satisfied: tokenizers==0.9.3 in /usr/local/lib/python3.7/dist-packages (from transformers<=3.5.1,>=3.5.0->underthesea) (0.9.3)\n",
            "Requirement already satisfied: protobuf in /usr/local/lib/python3.7/dist-packages (from transformers<=3.5.1,>=3.5.0->underthesea) (3.12.4)\n",
            "Requirement already satisfied: chardet<4,>=3.0.2 in /usr/local/lib/python3.7/dist-packages (from requests->underthesea) (3.0.4)\n",
            "Requirement already satisfied: idna<3,>=2.5 in /usr/local/lib/python3.7/dist-packages (from requests->underthesea) (2.10)\n",
            "Requirement already satisfied: certifi>=2017.4.17 in /usr/local/lib/python3.7/dist-packages (from requests->underthesea) (2020.12.5)\n",
            "Requirement already satisfied: urllib3!=1.25.0,!=1.25.1,<1.26,>=1.21.1 in /usr/local/lib/python3.7/dist-packages (from requests->underthesea) (1.24.3)\n",
            "Requirement already satisfied: scipy>=0.17.0 in /usr/local/lib/python3.7/dist-packages (from scikit-learn->underthesea) (1.4.1)\n",
            "Requirement already satisfied: pyparsing>=2.0.2 in /usr/local/lib/python3.7/dist-packages (from packaging->transformers<=3.5.1,>=3.5.0->underthesea) (2.4.7)\n",
            "Requirement already satisfied: setuptools in /usr/local/lib/python3.7/dist-packages (from protobuf->transformers<=3.5.1,>=3.5.0->underthesea) (56.0.0)\n",
            "Requirement already satisfied: keras in /usr/local/lib/python3.7/dist-packages (2.4.3)\n",
            "Requirement already satisfied: numpy>=1.9.1 in /usr/local/lib/python3.7/dist-packages (from keras) (1.19.5)\n",
            "Requirement already satisfied: scipy>=0.14 in /usr/local/lib/python3.7/dist-packages (from keras) (1.4.1)\n",
            "Requirement already satisfied: h5py in /usr/local/lib/python3.7/dist-packages (from keras) (2.10.0)\n",
            "Requirement already satisfied: pyyaml in /usr/local/lib/python3.7/dist-packages (from keras) (3.13)\n",
            "Requirement already satisfied: six in /usr/local/lib/python3.7/dist-packages (from h5py->keras) (1.15.0)\n",
            "Requirement already satisfied: pandas in /usr/local/lib/python3.7/dist-packages (1.1.5)\n",
            "Requirement already satisfied: python-dateutil>=2.7.3 in /usr/local/lib/python3.7/dist-packages (from pandas) (2.8.1)\n",
            "Requirement already satisfied: numpy>=1.15.4 in /usr/local/lib/python3.7/dist-packages (from pandas) (1.19.5)\n",
            "Requirement already satisfied: pytz>=2017.2 in /usr/local/lib/python3.7/dist-packages (from pandas) (2018.9)\n",
            "Requirement already satisfied: six>=1.5 in /usr/local/lib/python3.7/dist-packages (from python-dateutil>=2.7.3->pandas) (1.15.0)\n",
            "Requirement already satisfied: gensim in /usr/local/lib/python3.7/dist-packages (3.6.0)\n",
            "Requirement already satisfied: six>=1.5.0 in /usr/local/lib/python3.7/dist-packages (from gensim) (1.15.0)\n",
            "Requirement already satisfied: smart-open>=1.2.1 in /usr/local/lib/python3.7/dist-packages (from gensim) (5.0.0)\n",
            "Requirement already satisfied: scipy>=0.18.1 in /usr/local/lib/python3.7/dist-packages (from gensim) (1.4.1)\n",
            "Requirement already satisfied: numpy>=1.11.3 in /usr/local/lib/python3.7/dist-packages (from gensim) (1.19.5)\n"
          ],
          "name": "stdout"
        }
      ]
    },
    {
      "cell_type": "code",
      "metadata": {
        "id": "r2110_fvr-ur"
      },
      "source": [
        "import os\n",
        "import pandas as pd\n",
        "from __future__ import print_function\n",
        "import gensim\n",
        "from gensim import *\n",
        "from gensim.models import Word2Vec\n",
        "from keras.preprocessing.text import Tokenizer \n",
        "from keras.preprocessing.sequence import pad_sequences\n",
        "from tensorflow.keras.layers import Input, LSTM, Embedding, Dense, Concatenate, TimeDistributed, Bidirectional\n",
        "from tensorflow.keras.models import Model\n",
        "from tensorflow.keras.callbacks import EarlyStopping\n",
        "import warnings\n",
        "from keras.models import Model\n",
        "from keras.layers import Input, LSTM, Dense"
      ],
      "execution_count": null,
      "outputs": []
    },
    {
      "cell_type": "code",
      "metadata": {
        "id": "IbRkeJEo9-cm",
        "colab": {
          "base_uri": "https://localhost:8080/"
        },
        "outputId": "5147084e-b5d2-4577-c121-45b8bb8d35ff"
      },
      "source": [
        "from google.colab import drive\n",
        "drive.mount(\"/dataset\", force_remount=True)"
      ],
      "execution_count": null,
      "outputs": [
        {
          "output_type": "stream",
          "text": [
            "Mounted at /dataset\n"
          ],
          "name": "stdout"
        }
      ]
    },
    {
      "cell_type": "code",
      "metadata": {
        "colab": {
          "base_uri": "https://localhost:8080/"
        },
        "id": "jwXQ7_CKvas1",
        "outputId": "5f8eab9f-e196-4042-8fdf-3a77efd9676c"
      },
      "source": [
        "import sys\n",
        "import os\n",
        "\n",
        "import importlib.util\n",
        "spec = importlib.util.spec_from_file_location(\"attentionn.py\", \"/dataset/MyDrive/Colab Notebooks/attentionn.py\")\n",
        "foo = importlib.util.module_from_spec(spec)\n",
        "spec.loader.exec_module(foo)\n",
        "foo.AttentionLayer"
      ],
      "execution_count": null,
      "outputs": [
        {
          "output_type": "execute_result",
          "data": {
            "text/plain": [
              "attentionn.py.AttentionLayer"
            ]
          },
          "metadata": {
            "tags": []
          },
          "execution_count": 38
        }
      ]
    },
    {
      "cell_type": "code",
      "metadata": {
        "id": "a4sKvUpd_VKV"
      },
      "source": [
        "stopword = open('/dataset/MyDrive/vietnamese_stopword.txt', 'r')\n",
        "stopword = stopword.read()"
      ],
      "execution_count": null,
      "outputs": []
    },
    {
      "cell_type": "code",
      "metadata": {
        "id": "gV6WXYOm0MvK"
      },
      "source": [
        "#pre-processing - document\n",
        "# nltk.download('punkt') \n",
        "def pre_processing(data, remove_stopwords=True):\n",
        "  data = data.lower()\n",
        "  data = data.replace('\\n', '. ')\n",
        "  data = data.strip()\n",
        "  data = word_tokenize(data)\n",
        "  if remove_stopwords:\n",
        "    data = [i for i in data if not i in stopword]\n",
        "  data = \" \".join(data)\n",
        "  return data"
      ],
      "execution_count": null,
      "outputs": []
    },
    {
      "cell_type": "code",
      "metadata": {
        "id": "xr4Zyxrr6zDm",
        "colab": {
          "base_uri": "https://localhost:8080/"
        },
        "outputId": "a90f3564-7420-42aa-fb20-a0dc735acdee"
      },
      "source": [
        "from pathlib import Path\n",
        "import pandas as pd\n",
        "\n",
        "path1 = ['/dataset/MyDrive/donvanban/Plaintext/Chinh tri','/dataset/MyDrive/donvanban/Plaintext/Van Hoa','/dataset/MyDrive/donvanban/Plaintext/Xa Hoi','/dataset/MyDrive/donvanban/Plaintext/boKHCN','/dataset/MyDrive/donvanban/Plaintext/khoahoc_giaoduc','/dataset/MyDrive/donvanban/Plaintext/kinhte']\n",
        "path2 = ['/dataset/MyDrive/donvanban/Summary_manual/Chinh Tri','/dataset/MyDrive/donvanban/Summary_manual/Van Hoa','/dataset/MyDrive/donvanban/Summary_manual/Xa Hoi','/dataset/MyDrive/donvanban/Summary_manual/boKHCN','/dataset/MyDrive/donvanban/Summary_manual/khoahoc_giaoduc','/dataset/MyDrive/donvanban/Summary_manual/kinhte']\n",
        "\n",
        "DataFrame = []\n",
        "SumFrame= []\n",
        "for i in path1:\n",
        "  entries =sorted(os.listdir(i))\n",
        "  for a in entries:\n",
        "    #make path\n",
        "    newPath = i + '/'+ a\n",
        "    e_entries = Path(newPath)\n",
        "    #read each path \n",
        "    with open(e_entries, 'r',encoding='utf-8', errors='ignore') as f:\n",
        "      data = pre_processing(f.read(),True)\n",
        "      DataFrame.append({'Text': [data]})\n",
        "\n",
        "df = pd.DataFrame(DataFrame)#\n",
        "\n",
        "for i in path2:\n",
        "  entries = sorted(os.listdir(i))\n",
        "  for a in entries:\n",
        "    #make path\n",
        "    newPath = i + '/'+ a\n",
        "    e_entries = Path(newPath)\n",
        "    #read each path \n",
        "    with open(e_entries, 'r',encoding='utf-8', errors='ignore') as f:\n",
        "      Sumary = pre_processing(f.read(),False)\n",
        "      SumFrame.append([Sumary])\n",
        "df['Sumary'] = SumFrame\n",
        "print(df)"
      ],
      "execution_count": null,
      "outputs": [
        {
          "output_type": "stream",
          "text": [
            "                                                                                                                                                                                                        Text                                                                                                                                                                                                   Sumary\n",
            "0    [﻿ ưu tiên việt nam xây điện hạt nhân . . 11/4 , đại sứ liên bang việt nam andrey kovtun đoàn công tác thăm làm việc tỉnh ninh thuận tình hình triển khai xây dựng nhà máy điện hạt nhân ninh thuận ...  [ngày 11/4 , đại sứ liên bang nga tại việt nam andrey kovtun cùng đoàn công tác đã thăm và làm việc với tỉnh ninh thuận về tình hình triển khai xây dựng nhà máy điện hạt nhân ninh thuận .. phía ng...\n",
            "1    [﻿ việt nam-philippines cam kết phối hợp giải quyết tranh chấp biển đông . nhận lời mời bộ trưởng ngoại giao philippines albert f . del rosario , hai 31/7 1/8 , bộ trưởng ngoại giao phạm bình minh...  [﻿ nhận lời mời của bộ trưởng ngoại giao philippines albert f.del rosario , trong hai ngày 31/7 và 1/8 , bộ trưởng ngoại giao phạm bình minh đã thăm philippines và đồng chủ trì kỳ họp lần thứ 7 ủy...\n",
            "2    [﻿ đại tướng lê đức huy hiệu 75 đảng . chiều 29/7 , đại tướng đức , nguyên ủy viên chính trị , nguyên bí thư quân ủy trung ương - bộ trưởng quốc phòng , nguyên chủ tịch chxhcn việt nam , nguyên cố...  [﻿ chiều 29/7 , đại tướng lê đức anh , nguyên ủy viên bộ chính trị , nguyên phó bí thư quân ủy trung ương - bộ trưởng bộ quốc phòng , nguyên chủ tịch nước chxhcn việt nam , nguyên cố vấn ban chấp ...\n",
            "3    [﻿ 7 đoàn công tác phòng , chống tham nhũng . ký thông báo kết luận tổng bí thư nguyễn phú trọng phiên họp 3 ban chỉ đạo pctn tư , trưởng ban nội chính tư nguyễn bá kế hoạch 7 đoàn công tác phát h...  [﻿ ký thông báo kết luận của tổng bí thư nguyễn phú trọng về phiên họp lần 3 của ban chỉ đạo pctn tư , trưởng ban nội chính tư nguyễn bá thanh cho biết về kế hoạch lập 7 đoàn công tác nhằm phát hi...\n",
            "4    [﻿ tuyên dương 300 đồng bào dân tộc thiểu số 5 tỉnh tây bắc . 25/7 , tp vinh , tỉnh nghệ an diễn hội nghị biểu dương dân tộc thiểu số uy tín tiêu biểu 5 tỉnh tây bắc . , 300 tuyên dương . dự hội n...  [﻿ sáng ngày 25/7 , tại tp vinh , tỉnh nghệ an đã diễn ra hội nghị biểu dương người dân tộc thiểu số có uy tín tiêu biểu 5 tỉnh vùng tây bắc , có gần 300 người được tuyên dương trong dịp này . thờ...\n",
            "..                                                                                                                                                                                                       ...                                                                                                                                                                                                      ...\n",
            "195  [samsung đau đầu giàu .. tiền mặt dự trữ nhanh chóng buộc samsung giải ngân hợp lý , áp lực đối thủ apple gánh .. quý / 2013 thành công lợi nhuận ròng 42 % , samsung tiền mặt tương đương tiền hãng...  [sau quý i / 2013 thành công với lợi nhuận ròng tăng 42 % , samsung cho biết tiền mặt và các khoản tương đương tiền của hãng đạt gần 40 tỷ usd vào cuối tháng 3 .. trả lời thắc mắc về ý định dùng t...\n",
            "196  [﻿ “ vàng ” bỏ hoang , nợ hàng trăm tỷ đồng tiền thuế . hàng chục dự án sở hữu khu “ vàng ” đắc địa , màn khởi công rầm rộ , dự án dậm chân tại chỗ , hoang phế đầu tư “ im lặng ” .. hậu quả dân ng...  [﻿ hàng chục dự án được cấp giấy phép đầu tư tại quảng ngãi , bị trì trệ nhiều năm qua và số tiền thuế chiếm hàng trăm tỷ đồng khiến ngành thuế “ khổ sở ” , người dân mất đất sản xuất , còn chính ...\n",
            "197  [﻿ xây dựng kiểm tra dự án chênh hàng trăm triệu . ( 17/7 ) , đoàn kiểm tra xây dựng xây dựng hà nội làm việc lãnh đạo dự án vp5 linh đàm mua chênh hàng trăm triệu / căn hộ mua dự án .. trao đổi p...  [﻿ đoàn kiểm tra bộ xây dựng và sở xây dựng hà nội đã làm việc với lãnh đạo dự án vp5 linh đàm để làm rõ việc người mua phải chịu giá chênh lên tới hàng trăm triệu đồng / căn hộ .. độ chênh hàng t...\n",
            "198  [﻿ “ kiếm bộn ” ngoại tệ xuất khẩu điện thoại . kim ngạch xuất khẩu gấp đôi 6 , hàng điện thoại linh kiện 10 tỷ usd , góp phần giúp con số nhập siêu 1 tỷ usd , dự kiến .. tổng cục hải quan công bố...  [﻿ với kim ngạch xuất khẩu tăng gần gấp đôi trong 6 tháng đầu năm , qua đó góp phần giúp con số nhập siêu của cả nước chỉ ở mức dưới 1 tỷ usd .. điện thoại các loại và linh kiện trở thành nhóm hàn...\n",
            "199  [﻿ “ thắt ” chi tiêu , gửi ngân hàng . 4 khủng hoảng kinh tế , dòng tiền khu vực dân cư khu vực bất động sản kinh doanh , , cứu cánh huy động tổ chức tín dụng giai đoạn .. báo cáo ủy ban giám sát ...  [﻿ ủy ban giám sát tài chính quốc gia cho biết tình trạng tăng trưởng kinh tế thấp , tổng cầu nền kinh tế yếu đã tác động mạnh đến xu hướng đầu tư của hộ gia đình .. đầu tư vào bất động sản và sản...\n",
            "\n",
            "[200 rows x 2 columns]\n"
          ],
          "name": "stdout"
        }
      ]
    },
    {
      "cell_type": "code",
      "metadata": {
        "colab": {
          "base_uri": "https://localhost:8080/"
        },
        "id": "wLh4HUwqZxKs",
        "outputId": "af5990b0-e1a1-4469-ea5b-6a7f1fc3924c"
      },
      "source": [
        "for i in range(5):\n",
        "    print(\"Review:\",df['Text'][i])\n",
        "    print(\"Summary:\",df['Sumary'][i])\n",
        "    print(\"\\n\")"
      ],
      "execution_count": null,
      "outputs": [
        {
          "output_type": "stream",
          "text": [
            "Review: ['\\ufeff ưu tiên việt nam xây điện hạt nhân . . 11/4 , đại sứ liên bang việt nam andrey kovtun đoàn công tác thăm làm việc tỉnh ninh thuận tình hình triển khai xây dựng nhà máy điện hạt nhân ninh thuận .. làm việc , chủ tịch ủy ban nhân dân tỉnh ninh thuận nguyễn đức tỉnh hoàn chỉnh chính sách , cơ chế đặc thù thủ tướng chính phủ phê duyệt . tỉnh hoàn thành công tác đo đạc bản đồ thu hồi khu vực triển khai dự án khu vực thu hồi xây dựng nhà máy , khu tái định cư , khu nghĩa trang hệ thống phục vụ khu tái định cư nhà máy điện hạt nhân ninh thuận 1 ; hoàn thành công tác kiểm kê khu vực lõi nhà máy .. tỉnh hoàn thành khảo sát đo đạc địa hình , địa chất phục vụ công tác lập quy hoạch dự án đầu tư ; hoàn thành công tác lập quy hoạch chi tiết khu tái định cư nhà máy 1 diện tích 86,9 khu nghĩa trang diện tích 10,8 .. tỉnh thành lập ban quản lý dự án điện hạt nhân dự án di dân , tái định cư ủy ban nhân dân tỉnh làm chủ đầu tư . , tỉnh phấn đấu hoàn thành công tác bồi thường , giải phóng mặt bằng , tổ chức thi công xây dựng công trình hạ tầng phục vụ di dân tái định cư khu tái định cư , nghĩa trang hệ thống phục vụ khu tái định cư nhà máy điện hạt nhân ninh thuận 1 .. quy hoạch duyệt , khu tái định cư khu nằm vành đai du lịch , đầu tư đồng bộ hệ thống hạ tầng kỹ thuật , hạ tầng xã hội tiêu chuẩn khu đô thị . bàn giao mốc ranh giới , mốc hàng rào nhà máy điện hạt nhân , tỉnh xác định , quy mô xây dựng khu tái định canh , ổn định phát triển sản xuất lâu dài dân .. đại sứ andrey kovtun công tác xây dựng nhà máy điện hạt nhân ninh thuận 1 . ưu tiên việt nam công tác xây dựng nhà máy điện hạt nhân , dự kiến 2013 , hoàn thành hồ sơ triển khai xây dựng nhà máy điện hạt nhân số 1 ninh thuận , tổ chức hội thảo ninh thuận công ty , doanh nghiệp tỉnh tham gia đầu tư ngành công nghiệp phụ trợ xây dựng nhà máy điện hạt nhân .. tỉnh ninh thuận mong muốn , chính phủ liên bang đào tạo nhân lực lĩnh vực tỉnh nhu cầu ( chương trình đào tạo chính phủ hai hợp tác ) , tỉnh xúc tiến đầu tư , vận động doanh nghiệp đầu tư tỉnh lĩnh vực sản xuất , chuyển giao công nghệ phục vụ xây dựng nhà máy điện hạt nhân ngành công nghiệp phụ trợ']\n",
            "Summary: ['ngày 11/4 , đại sứ liên bang nga tại việt nam andrey kovtun cùng đoàn công tác đã thăm và làm việc với tỉnh ninh thuận về tình hình triển khai xây dựng nhà máy điện hạt nhân ninh thuận .. phía nga luôn ưu tiên cao nhất cho việt nam trong công tác xây dựng nhà máy điện hạt nhân , dự kiến cuối năm 2013 , nga sẽ hoàn thành hồ sơ triển khai xây dựng nhà máy điện hạt nhân số 1 tại ninh thuận , đồng thời sẽ tổ chức hội thảo tại ninh thuận để các công ty , các doanh nghiệp của tỉnh và cả nước tham gia đầu tư vào các ngành công nghiệp phụ trợ cho xây dựng nhà máy điện hạt nhân .']\n",
            "\n",
            "\n",
            "Review: ['\\ufeff việt nam-philippines cam kết phối hợp giải quyết tranh chấp biển đông . nhận lời mời bộ trưởng ngoại giao philippines albert f . del rosario , hai 31/7 1/8 , bộ trưởng ngoại giao phạm bình minh thăm philippines chủ trì họp 7 ủy ban hợp tác song phương việt nam - philippines . tham dự họp đại sứ việt nam philippines , đại sứ philippines việt nam đại diện , ngành hai .. họp , hai thảo luận lĩnh vực hợp tác song phương bao gồm chính trị , quốc phòng-an ninh , biển-đại dương , kinh tế , thương mại , nông-lâm-ngư nghiệp , khoa học-công nghệ-môi trường , an ninh năng lượng , hóa-thể thao-du lịch , giáo dục-đào , lực-phúc lợi xã hội phát triển , thông tin-truyền thông , hợp tác khu vực quốc tế .. hai rà soát , kết quả triển khai thỏa thuận họp 6 tổ chức nội 10/2011 chương trình hành động việt nam-philippines 2011 - 2016 , phương hướng biện pháp thúc đẩy hợp tác lĩnh vực .. hai kết quả chuyến thăm việt nam tổng thống benigno . aquino hồi 10/2010 chuyến thăm philippines chủ tịch trương 10/2011 ; nhất trí duy trì chuyến thăm giao lưu nhân dân tăng cường hiểu biết tin cậy lẫn .. hai hợp tác ninh-quốc phòng tăng cường ; nhất trí triển khai thỏa thuận hợp tác quốc phòng , ghi nhớ tăng cường liên lạc thông tin hải quân hai thoả thuận thiết lập đường dây nóng cảnh sát biển việt nam lực lượng phòng vệ bờ biển philippines ; hợp tác chặt chẽ đối phó thách thức an ninh truyền thống .. hai hợp tác biển đại dương trụ cột quan hệ song phương ; hài lòng kết quả tích cực , thành lập ủy ban hỗn hợp biển đại dương thứ trưởng ngoại giao chuyên gia pháp lý biển ; cơ chế song phương hữu hiệu thúc đẩy đối thoại hợp tác biển . hai thảo luận cách thức triển khai hiệu quả thỏa thuận hợp tác ứng phó sự cố tràn thỏa thuận hợp tác tìm kiếm cứu nạn .. hai kim ngạch thương mại hai chiều tăng trưởng hàng , 2012 3 tỷ usd ; nhất trí thúc đẩy mục tiêu . hai hoan nghênh ký thỏa thuận cung ứng gạo giai đoạn 2014 - 2016 ; nhất trí thúc đẩy đàm phán hoàn tất nghị định thư hợp tác nông nghiệp thay thế thỏa thuận hợp tác nông nghiệp 1999 triển khai hiệu quả thỏa thuận hợp tác nghề , chú trọng phát triển hợp tác nghiên cứu nuôi trồng thủy sản ; phối hợp ngư dân tàu thuyền xâm phạm vùng biển tinh thần nhân đạo quan hệ hữu nghị .. hai thỏa thuận tăng cường hợp tác lĩnh vực an ninh năng lượng , văn hóa , du lịch , giáo dục-đào , khoa học-công nghệ-môi trường , phúc lợi xã hội phát triển .. hai bày tỏ hài lòng hợp tác tốt đẹp việt nam philippines diễn đàn khu vực quốc tế , khuôn khổ asean liên hợp quốc ; cam kết phối hợp chặt chẽ thành viên xây dựng cộng đồng asean 2015 đề cao vai trò trung tâm asean giải quyết khu vực .. trao đổi biển đông , hai nhấn mạnh nguyên tắc duy trì hòa bình , ổn định , an toàn an ninh hàng hải ; tôn trọng luật pháp quốc tế , công ước liên hợp quốc biển 1982 ( unclos ) tuyên bố ứng xử biển đông ( doc ) ; hoan nghênh tuyên bố 6 asean biển đông ; phối hợp thúc đẩy hoàn tất quy tắc ứng xử biển đông ( coc ) .. kết thúc họp , bộ trưởng ngoại giao việt nam phạm bình minh bộ trưởng ngoại giao philippines albert f . del rosario ký biên bản thỏa thuận nhất trí tổ chức họp 8 ủy ban hợp tác song phương việt nam 2015 ..']\n",
            "Summary: ['\\ufeff nhận lời mời của bộ trưởng ngoại giao philippines albert f.del rosario , trong hai ngày 31/7 và 1/8 , bộ trưởng ngoại giao phạm bình minh đã thăm philippines và đồng chủ trì kỳ họp lần thứ 7 ủy ban hợp tác song phương việt nam - philippines . tham dự kỳ họp có đại sứ việt nam tại philippines , đại sứ philippines tại việt nam cùng đại diện các bộ , ngành hai nước . hai bên đã thảo luận các lĩnh vực hợp tác song phương bao gồm chính trị , quốc phòng-an ninh , biển-đại dương , kinh tế , thương mại , nông-lâm-ngư nghiệp , khoa học-công nghệ-môi trường , an ninh năng lượng , văn hóa-thể thao-du lịch , giáo dục-đào tạo , nguồn nhân lực-phúc lợi xã hội và phát triển , thông tin-truyền thông , và hợp tác trong các vấn đề khu vực và quốc tế .']\n",
            "\n",
            "\n",
            "Review: ['\\ufeff đại tướng lê đức huy hiệu 75 đảng . chiều 29/7 , đại tướng đức , nguyên ủy viên chính trị , nguyên bí thư quân ủy trung ương - bộ trưởng quốc phòng , nguyên chủ tịch chxhcn việt nam , nguyên cố vấn ban chấp hành trung ương đảng huy hiệu 75 đảng . tổng bí thư nguyễn phú trọng , bí thư quân ủy trung ương ; chủ tịch trương ; nguyên chủ tịch trần đức lương ; chủ tịch nguyễn thị doan ; nguyên chủ tịch nguyễn thị bình ; đại tướng phùng quang , bộ trưởng quốc phòng đồng chí lãnh đạo ban , , ngành , cơ quan trung ương dự .. thay mặt lãnh đạo đảng , nhà nước , quân ủy trung ương , tổng bí thư nguyễn phú trọng trân trọng trao huy hiệu 75 đảng chúc mừng đồng chí lê đức phần thưởng cao quý đảng nhà nước .. tổng bí thư nêu : đồng chí lê đức cán bộ kinh qua cương vị công tác , tôi luyện , trưởng thành kháng chiến , đóng góp to lớn sự nghiệp cách mạng trưởng thành quân đội . cương vị công tác , đồng chí tuyệt đối trung thành đảng , tổ quốc nhân dân ; vững phẩm chất đạo đức cách mạng đảng viên cộng sản , phấn đấu hoàn thành nhiệm vụ giao .. cương vị bí thư quân ủy trung ương , bộ trưởng quốc phòng , kinh nghiệm thực tiễn phong phú , đồng chí tập thể thường vụ quân ủy trung ương , thủ trưởng quốc phòng , đoàn kết , thống nhất , chức năng tham mưu đảng , nhà nước hoạch định đường lối quân sự , quốc phòng ; lãnh đạo , chỉ đạo xây dựng quốc phòng toàn dân , xây dựng lực lượng vũ trang nhân dân ; xây dựng đảng bộ quân đội vững mạnh chính trị , tư tưởng tổ chức , hoàn thành nhiệm vụ đảng , nhà nước nhân dân giao phó .. tác phong sâu sát cơ sở , vững nguyên tắc , tôn trọng lắng nghe ý kiến , đồng chí quan hệ đoàn kết gắn bó , phát huy trí tuệ tập thể lãnh đạo , chỉ huy . tình cảm chân thành trách nhiệm cán bộ lãnh đạo , đồng chí tận tình giúp đỡ , truyền đạt thế hệ kinh nghiệm lãnh đạo , chỉ đạo chỉ huy , phương pháp , tác phong làm việc sâu sát , , quyết đoán hiệu quả .. lễ , chủ tịch trương đồng chí lãnh đạo , nguyên lãnh đạo đảng , nhà nước , trao tặng bó tươi thắm chúc mừng đồng chí lê đức .. phát biểu lễ , đồng chí lê đức bày tỏ biết ơn sâu sắc , niềm vinh dự to lớn đón nhận huy hiệu 75 đảng , phần thưởng cao quý đảng nhà nước .. đồng chí lê đức nêu : đảng viên lãnh đạo đảng , đồng chí hoàn thành nhiệm vụ đảng giao , dân , , bạn bè quốc tế . đồng chí mong mỏi tuyệt đối tin tưởng , lãnh đạo đảng , toàn dân , toàn quân vững độc lập dân tộc , chủ quyền quốc gia , chủ trương , chính sách nhất quán đảng nhà nước , mục tiêu hòa bình , hữu nghị , hợp tác phát triển thế giới , vững tiến chủ nghĩa xã hội , xây dựng đất nước việt nam giàu mạnh , dân chủ , công bằng , văn minh']\n",
            "Summary: ['\\ufeff chiều 29/7 , đại tướng lê đức anh , nguyên ủy viên bộ chính trị , nguyên phó bí thư quân ủy trung ương - bộ trưởng bộ quốc phòng , nguyên chủ tịch nước chxhcn việt nam , nguyên cố vấn ban chấp hành trung ương đảng đã nhận huy hiệu 75 năm tuổi đảng . đồng chí lê đức anh là một cán bộ đã từng kinh qua nhiều cương vị công tác , được tôi luyện , trưởng thành qua các cuộc kháng chiến , có nhiều đóng góp to lớn cho sự nghiệp cách mạng và sự trưởng thành của quân đội . chủ tịch nước trương tấn sang , đồng chí lãnh đạo , nguyên lãnh đạo đảng , nhà nước , đã trao tặng những bó hoa chúc mừng . đồng chí lê đức anh đã bày tỏ lòng biết ơn sâu sắc , niềm vinh dự to lớn được đón nhận huy hiệu 75 năm tuổi đảng , phần thưởng cao quý của đảng và nhà nước .']\n",
            "\n",
            "\n",
            "Review: ['\\ufeff 7 đoàn công tác phòng , chống tham nhũng . ký thông báo kết luận tổng bí thư nguyễn phú trọng phiên họp 3 ban chỉ đạo pctn tư , trưởng ban nội chính tư nguyễn bá kế hoạch 7 đoàn công tác phát hiện hạn chế , khắc phục , nâng hiệu quả pctn .. toàn văn thông báo đăng tải website ban nội chính tư .. , phiên họp 3 , ban chỉ đạo phòng , chống tham nhũng ( pctn ) tư tiến hành kiểm điểm , công tác pctn 6 , bàn nhiệm vụ công tác 6 2013 ; ý kiến kế hoạch kiểm tra , giám sát thanh tra , khởi tố , điều tra , truy tố , xét xử ; ý kiến chỉ đạo vụ việc , vụ án tham nhũng , kinh tế dấu hiệu tham nhũng nghiêm trọng , phức tạp , dư luận xã hội .. công tác pctn 6 2013 bước tiến , nền nếp bài bản , kết quả tích cực mặt , : đẩy tiến độ xây dựng , hoàn thiện thể chế ; thành lập , củng cố tổ chức , hoạt động ban chỉ đạo , ban nội chính trung ương - cơ quan thường trực ban chỉ đạo ; thành lập ban nội chính tỉnh ủy , thành ủy ; công khai , minh bạch hoạt động cơ quan , tổ chức , .. , ban chỉ đạo thống nhất nhận định , tình hình tham nhũng nghiêm trọng , công tác pctn hạn chế giải pháp phòng ngừa tham nhũng hiệu quả ; công tác kiểm tra , đôn đốc khâu , lĩnh vực , địa bàn trọng điểm thường xuyên , liên tục ; tiến độ vụ án tham nhũng nghiêm trọng , phức tạp , dư luận xã hội chậm ; phát hiện , tội phạm tham nhũng thực trạng tình hình tham nhũng ; công tác giám định tư pháp phục vụ tham nhũng , kinh tế dấu hiệu tham nhũng bất cập .. triển khai kế hoạch 08 chính trị nghị quyết chỉnh đốn đảng , trưởng ban nội chính tư nguyễn bá , kiểm tra , giám sát thanh tra , khởi tố , điều tra , truy tố , xét xử vụ việc , vụ án tham nhũng nâng hiệu quả công tác pctn .. đề xuất ban nội chính tư , ban chỉ đạo cơ bản thống nhất kế hoạch kiểm tra , giám sát thành lập 7 đoàn công tác thành viên ban chỉ đạo trưởng đoàn . nhấn mạnh , thông qua đợt kiểm tra , giám sát phát hiện hạn chế , yếu kém , vướng mắc hoạt động thanh tra , khởi tố , điều tra , truy tố , xét xử biện pháp khắc phục kịp thời nâng hiệu quả công tác pctn .. ban nội chính tư giao hoàn chỉnh kế hoạch , đề cương , danh sách đoàn công tác , ý kiến tham gia thành viên ban chỉ đạo tổng bí thư , trưởng ban chỉ đạo nguyễn phú trọng ký ban hành .. vụ việc , vụ án tham nhũng nghiêm trọng , phức tạp , dư luận xã hội , ban chỉ đạo thống nhất 8 vụ án , 2 vụ việc tham nhũng kinh tế đề nghị ban nội chính diện ban chỉ đạo chỉ đạo dứt điểm , kéo dài .. phương thức vụ việc 3 cấp độ . , trưởng ban nội chính nguyễn bá giao phối hợp công an , vksnd tối cao , tand tối cao tổ chức họp liên ngành , thống nhất hướng . trường hợp cơ quan thống nhất giao thường trực ban bí thư phụ trách công tác nội chính chủ trì họp liên ngành bàn hướng . , ý kiến , trưởng ban nội chính tổng hợp , báo cáo đề xuất tập thể thường trực ban chỉ đạo ( trưởng ban trưởng ban chỉ đạo ) chỉ đạo chủ trương , định hướng .']\n",
            "Summary: ['\\ufeff ký thông báo kết luận của tổng bí thư nguyễn phú trọng về phiên họp lần 3 của ban chỉ đạo pctn tư , trưởng ban nội chính tư nguyễn bá thanh cho biết về kế hoạch lập 7 đoàn công tác nhằm phát hiện những hạn chế , khắc phục , nâng cao hiệu quả pctn . ban chỉ đạo phòng , chống tham nhũng tư đã tiến hành kiểm điểm , đánh giá công tác pctn 6 tháng đầu năm , bàn nhiệm vụ công tác 6 tháng cuối năm 2013 . công tác pctn trong 6 tháng đầu năm 2013 được đánh giá có bước tiến mới , nền nếp và bài bản hơn , đạt được kết quả tích cực trên một số mặt . tình hình tham nhũng vẫn đang là vấn đề nghiêm trọng , công tác pctn vẫn còn nhiều hạn chế , các giải pháp phòng ngừa tham nhũng hiệu quả chưa cao .']\n",
            "\n",
            "\n",
            "Review: ['\\ufeff tuyên dương 300 đồng bào dân tộc thiểu số 5 tỉnh tây bắc . 25/7 , tp vinh , tỉnh nghệ an diễn hội nghị biểu dương dân tộc thiểu số uy tín tiêu biểu 5 tỉnh tây bắc . , 300 tuyên dương . dự hội nghị nguyễn xuân phúc - ủy viên chính trị , phó thủ tướng chính phủ , trưởng ban chỉ đạo tây bắc 300 biểu dương uy tín tiêu biểu đồng bào dân tộc thiểu số khu vực tây bắc 5 tỉnh nghệ an , thanh hóa , hòa bình , phú thọ yên bái .. chỉ thị 06/2008 / ct-ttg thủ tướng chính phủ \" phát huy vai trò uy tín đồng bào dân tộc thiểu số sự nghiệp xây dựng bảo vệ tổ quốc \" , , khu vực tây bắc , chỉ đạo , vận động tuyên truyền phát huy vai trò uy tín đồng bào dân tộc thiểu số củng cố tình thần đoàn kết , góp phần xây dựng bảo vệ tổ quốc . , tây bắc bình xét 25,8 ngàn uy tín , 5 tỉnh nghệ an , thanh hóa , hòa bình , phú thọ yên bái 2013 công nhận 6.000 uy tín . uy tín đồng bào dân tộc thiểu số cương vị công tác cao tuổi , trưởng , trưởng dòng họ , nhân sĩ trí thức … hoạt động lĩnh vực .. , dân tộc , miền núi , uy tín đồng bào dân tộc thiểu số ( dtts ) nòng cốt vận động chống di dân tự do , phòng chống ma túy , ngăn chặn truyền đạo trái pháp luật ; vận động nhân dân công trình công cộng , hòa giải mâu thuẫn phát sinh cộng đồng dân cư .. hội nghị ý nghĩa biểu dương , tôn vinh uy tín đồng bào dân tộc 5 tỉnh tây bắc ; động viên , cổ vũ phát huy vai trò uy tín đồng bào dân tộc thiểu số sự nghiệp xây dựng bảo vệ tổ quốc . diễn đàn đại biểu 5 tỉnh trao đổi kinh nghiệm quý thực tiễn xây dựng thôn , , .... phát biểu hội nghị , phó thủ tướng nguyễn xuân phúc - trưởng ban chỉ đạo tây bắc - nhấn mạnh : “ uy tín đồng bào dân tộc thiểu số tấm gương tiêu biểu lĩnh vực hoạt động đời sống xã hội , trung tâm đoàn kết , nhân tố ý nghĩa công tác vận động quần chúng tăng cường khối đại đoàn kết dân tộc . biểu dương tôn vinh ghi nhận , công lao uy tín biết ơn phát huy vai trò nòng cốt ảnh hưởng tích cực uy tín sự nghiệp xây dựng bảo vệ tổ quốc ” .. .']\n",
            "Summary: ['\\ufeff sáng ngày 25/7 , tại tp vinh , tỉnh nghệ an đã diễn ra hội nghị biểu dương người dân tộc thiểu số có uy tín tiêu biểu 5 tỉnh vùng tây bắc , có gần 300 người được tuyên dương trong dịp này . thời gian qua , cả nước nói chung và khu vực tây bắc nói riêng luôn quan tâm , chỉ đạo , vận động tuyên truyền cũng như phát huy vai trò của người uy tín trong đồng bào dân tộc thiểu số nhằm củng cố tình thần đoàn kết , góp phần xây dựng và bảo vệ tổ quốc . hội nghị có ý nghĩa nhằm biểu dương , tôn vinh người có uy tín trong đồng bào dân tộc 5 tỉnh vùng tây bắc ; qua đó động viên , cổ vũ và phát huy vai trò của người có uy tín trong đồng bào dân tộc thiểu số đối với sự nghiệp xây dựng và bảo vệ tổ quốc .']\n",
            "\n",
            "\n"
          ],
          "name": "stdout"
        }
      ]
    },
    {
      "cell_type": "code",
      "metadata": {
        "colab": {
          "base_uri": "https://localhost:8080/"
        },
        "id": "4GVw5iSnzVgE",
        "outputId": "46c4f0c5-be89-4081-a165-e1178ae15294"
      },
      "source": [
        "df=pd.read_csv(\"/dataset/MyDrive/donvanban/alo.csv\")\n",
        "df = df.drop([df.index[18], df.index[34],df.index[35],df.index[36]])\n",
        "df['Sumary'] = df['Sumary'].apply(lambda x : '_START_ '+ x + ' _END_')\n",
        "print(df)"
      ],
      "execution_count": null,
      "outputs": [
        {
          "output_type": "stream",
          "text": [
            "                                                                                                                                                                                                        Text                                                                                                                                                                                                   Sumary\n",
            "0    ['\\ufeff ưu tiên việt nam xây điện hạt nhân . . 11/4 , đại sứ liên bang việt nam andrey kovtun đoàn công tác thăm làm việc tỉnh ninh thuận tình hình triển khai xây dựng nhà máy điện hạt nhân ninh ...  _START_ ['ngày 11/4 , đại sứ liên bang nga tại việt nam andrey kovtun cùng đoàn công tác đã thăm và làm việc với tỉnh ninh thuận về tình hình triển khai xây dựng nhà máy điện hạt nhân ninh thuận ....\n",
            "1    ['\\ufeff việt nam-philippines cam kết phối hợp giải quyết tranh chấp biển đông . nhận lời mời bộ trưởng ngoại giao philippines albert f . del rosario , hai 31/7 1/8 , bộ trưởng ngoại giao phạm bìn...  _START_ ['\\ufeff nhận lời mời của bộ trưởng ngoại giao philippines albert f.del rosario , trong hai ngày 31/7 và 1/8 , bộ trưởng ngoại giao phạm bình minh đã thăm philippines và đồng chủ trì kỳ họ...\n",
            "2    ['\\ufeff đại tướng lê đức huy hiệu 75 đảng . chiều 29/7 , đại tướng đức , nguyên ủy viên chính trị , nguyên bí thư quân ủy trung ương - bộ trưởng quốc phòng , nguyên chủ tịch chxhcn việt nam , ngu...  _START_ ['\\ufeff chiều 29/7 , đại tướng lê đức anh , nguyên ủy viên bộ chính trị , nguyên phó bí thư quân ủy trung ương - bộ trưởng bộ quốc phòng , nguyên chủ tịch nước chxhcn việt nam , nguyên cố...\n",
            "3    ['\\ufeff 7 đoàn công tác phòng , chống tham nhũng . ký thông báo kết luận tổng bí thư nguyễn phú trọng phiên họp 3 ban chỉ đạo pctn tư , trưởng ban nội chính tư nguyễn bá kế hoạch 7 đoàn công tác ...  _START_ ['\\ufeff ký thông báo kết luận của tổng bí thư nguyễn phú trọng về phiên họp lần 3 của ban chỉ đạo pctn tư , trưởng ban nội chính tư nguyễn bá thanh cho biết về kế hoạch lập 7 đoàn công tá...\n",
            "4    ['\\ufeff tuyên dương 300 đồng bào dân tộc thiểu số 5 tỉnh tây bắc . 25/7 , tp vinh , tỉnh nghệ an diễn hội nghị biểu dương dân tộc thiểu số uy tín tiêu biểu 5 tỉnh tây bắc . , 300 tuyên dương . dự...  _START_ ['\\ufeff sáng ngày 25/7 , tại tp vinh , tỉnh nghệ an đã diễn ra hội nghị biểu dương người dân tộc thiểu số có uy tín tiêu biểu 5 tỉnh vùng tây bắc , có gần 300 người được tuyên dương trong...\n",
            "..                                                                                                                                                                                                       ...                                                                                                                                                                                                      ...\n",
            "195  ['samsung đau đầu giàu .. tiền mặt dự trữ nhanh chóng buộc samsung giải ngân hợp lý , áp lực đối thủ apple gánh .. quý / 2013 thành công lợi nhuận ròng 42 % , samsung tiền mặt tương đương tiền hãn...  _START_ ['sau quý i / 2013 thành công với lợi nhuận ròng tăng 42 % , samsung cho biết tiền mặt và các khoản tương đương tiền của hãng đạt gần 40 tỷ usd vào cuối tháng 3 .. trả lời thắc mắc về ý đị...\n",
            "196  ['\\ufeff “ vàng ” bỏ hoang , nợ hàng trăm tỷ đồng tiền thuế . hàng chục dự án sở hữu khu “ vàng ” đắc địa , màn khởi công rầm rộ , dự án dậm chân tại chỗ , hoang phế đầu tư “ im lặng ” .. hậu quả ...  _START_ ['\\ufeff hàng chục dự án được cấp giấy phép đầu tư tại quảng ngãi , bị trì trệ nhiều năm qua và số tiền thuế chiếm hàng trăm tỷ đồng khiến ngành thuế “ khổ sở ” , người dân mất đất sản xuấ...\n",
            "197  ['\\ufeff xây dựng kiểm tra dự án chênh hàng trăm triệu . ( 17/7 ) , đoàn kiểm tra xây dựng xây dựng hà nội làm việc lãnh đạo dự án vp5 linh đàm mua chênh hàng trăm triệu / căn hộ mua dự án .. trao...  _START_ ['\\ufeff đoàn kiểm tra bộ xây dựng và sở xây dựng hà nội đã làm việc với lãnh đạo dự án vp5 linh đàm để làm rõ việc người mua phải chịu giá chênh lên tới hàng trăm triệu đồng / căn hộ .. đ...\n",
            "198  ['\\ufeff “ kiếm bộn ” ngoại tệ xuất khẩu điện thoại . kim ngạch xuất khẩu gấp đôi 6 , hàng điện thoại linh kiện 10 tỷ usd , góp phần giúp con số nhập siêu 1 tỷ usd , dự kiến .. tổng cục hải quan c...  _START_ ['\\ufeff với kim ngạch xuất khẩu tăng gần gấp đôi trong 6 tháng đầu năm , qua đó góp phần giúp con số nhập siêu của cả nước chỉ ở mức dưới 1 tỷ usd .. điện thoại các loại và linh kiện trở ...\n",
            "199  ['\\ufeff “ thắt ” chi tiêu , gửi ngân hàng . 4 khủng hoảng kinh tế , dòng tiền khu vực dân cư khu vực bất động sản kinh doanh , , cứu cánh huy động tổ chức tín dụng giai đoạn .. báo cáo ủy ban giá...  _START_ ['\\ufeff ủy ban giám sát tài chính quốc gia cho biết tình trạng tăng trưởng kinh tế thấp , tổng cầu nền kinh tế yếu đã tác động mạnh đến xu hướng đầu tư của hộ gia đình .. đầu tư vào bất đ...\n",
            "\n",
            "[196 rows x 2 columns]\n"
          ],
          "name": "stdout"
        }
      ]
    },
    {
      "cell_type": "code",
      "metadata": {
        "colab": {
          "base_uri": "https://localhost:8080/",
          "height": 281
        },
        "id": "Cl2DiB98Z7cy",
        "outputId": "d10999b1-6e3a-4cbd-f184-f33b76488dae"
      },
      "source": [
        "import matplotlib.pyplot as plt\n",
        "text_word_count = []\n",
        "summary_word_count = []\n",
        "\n",
        "# populate the lists with sentence lengths\n",
        "for i in df['Text']:\n",
        "      text_word_count.append(len(i.split()))\n",
        "\n",
        "for i in df['Sumary']:\n",
        "      summary_word_count.append(len(i.split()))\n",
        "\n",
        "length_df = pd.DataFrame({'text':text_word_count, 'summary':summary_word_count})\n",
        "length_df.hist(bins = 30)\n",
        "plt.show()"
      ],
      "execution_count": null,
      "outputs": [
        {
          "output_type": "display_data",
          "data": {
            "image/png": "[encoded data removed]",
            "text/plain": [
              "<Figure size 432x288 with 2 Axes>"
            ]
          },
          "metadata": {
            "tags": [],
            "needs_background": "light"
          }
        }
      ]
    },
    {
      "cell_type": "code",
      "metadata": {
        "id": "OD67jYWlbCBf"
      },
      "source": [
        "max_len_text=300\n",
        "max_len_summary=50\n",
        "from sklearn.model_selection import train_test_split\n",
        "x_tr,x_val,y_tr,y_val=train_test_split(df['Text'],df['Sumary'],test_size=0.1,random_state=0,shuffle=True) "
      ],
      "execution_count": null,
      "outputs": []
    },
    {
      "cell_type": "code",
      "metadata": {
        "colab": {
          "base_uri": "https://localhost:8080/"
        },
        "id": "7XD4ALQEbRMJ",
        "outputId": "b309d77c-58db-4cc3-80f5-7383b0c63334"
      },
      "source": [
        "x_tokenizer = Tokenizer(filters='!\"#$%&()*+,-./:;<=>?@[\\]^`{|}~ ')\n",
        "x_tokenizer.fit_on_texts(list(x_tr))\n",
        "\n",
        "#convert text sequences into integer sequences\n",
        "x_tr    =   x_tokenizer.texts_to_sequences(x_tr) \n",
        "x_val   =   x_tokenizer.texts_to_sequences(x_val)\n",
        "\n",
        "#padding zero upto maximum length\n",
        "x_tr    =   pad_sequences(x_tr,  maxlen=max_len_text, padding='post') \n",
        "x_val   =   pad_sequences(x_val, maxlen=max_len_text, padding='post')\n",
        "\n",
        "x_voc_size   =  len(x_tokenizer.word_index) +1\n",
        "print(x_voc_size)"
      ],
      "execution_count": null,
      "outputs": [
        {
          "output_type": "stream",
          "text": [
            "3635\n"
          ],
          "name": "stdout"
        }
      ]
    },
    {
      "cell_type": "code",
      "metadata": {
        "colab": {
          "base_uri": "https://localhost:8080/"
        },
        "id": "qJzXZTSAbp-0",
        "outputId": "768980f3-b37f-41be-ab7f-9212609f0959"
      },
      "source": [
        "y_tokenizer = Tokenizer()\n",
        "y_tokenizer.fit_on_texts(list(y_tr))\n",
        "\n",
        "#convert summary sequences into integer sequences\n",
        "y_tr    =   y_tokenizer.texts_to_sequences(y_tr) \n",
        "y_val   =   y_tokenizer.texts_to_sequences(y_val) \n",
        "\n",
        "#padding zero upto maximum length\n",
        "y_tr    =   pad_sequences(y_tr, maxlen=max_len_summary, padding='post')\n",
        "y_val   =   pad_sequences(y_val, maxlen=max_len_summary, padding='post')\n",
        "\n",
        "y_voc_size  =   len(y_tokenizer.word_index) +1\n",
        "print(y_voc_size)"
      ],
      "execution_count": null,
      "outputs": [
        {
          "output_type": "stream",
          "text": [
            "2033\n"
          ],
          "name": "stdout"
        }
      ]
    },
    {
      "cell_type": "code",
      "metadata": {
        "colab": {
          "base_uri": "https://localhost:8080/"
        },
        "id": "b_buwFKqb3uD",
        "outputId": "e416034b-5bc3-4dda-e869-cbd25454d6a7"
      },
      "source": [
        "from keras import backend as K \n",
        "K.clear_session() \n",
        "latent_dim = 512\n",
        "\n",
        "# Encoder \n",
        "encoder_inputs = Input(shape=(max_len_text,)) \n",
        "enc_emb = Embedding(x_voc_size, latent_dim,trainable=True)(encoder_inputs) \n",
        "\n",
        "#LSTM 1 \n",
        "encoder_lstm1 = LSTM(latent_dim,return_sequences=True,return_state=True) \n",
        "encoder_output1, state_h1, state_c1 = encoder_lstm1(enc_emb) \n",
        "\n",
        "#LSTM 2 \n",
        "encoder_lstm2 = LSTM(latent_dim,return_sequences=True,return_state=True) \n",
        "encoder_output2, state_h2, state_c2 = encoder_lstm2(encoder_output1) \n",
        "\n",
        "#LSTM 3 \n",
        "encoder_lstm3=LSTM(latent_dim, return_state=True, return_sequences=True) \n",
        "encoder_outputs, state_h, state_c= encoder_lstm3(encoder_output2) \n",
        "\n",
        "# Set up the decoder. \n",
        "decoder_inputs = Input(shape=(None,)) \n",
        "dec_emb_layer = Embedding(y_voc_size, latent_dim,trainable=True) \n",
        "dec_emb = dec_emb_layer(decoder_inputs) \n",
        "\n",
        "#LSTM using encoder_states as initial state\n",
        "decoder_lstm = LSTM(latent_dim, return_sequences=True, return_state=True) \n",
        "decoder_outputs,decoder_fwd_state, decoder_back_state = decoder_lstm(dec_emb,initial_state=[state_h, state_c])\n",
        "\n",
        "attn_layer = foo.AttentionLayer(name='attention_layer') \n",
        "attn_out, attn_states = attn_layer([encoder_outputs, decoder_outputs]) \n",
        "decoder_concat_input = Concatenate(axis=-1, name='concat_layer')([decoder_outputs, attn_out])\n",
        "decoder_dense = TimeDistributed(Dense(y_voc_size, activation='softmax')) \n",
        "decoder_outputs = decoder_dense(decoder_concat_input) \n",
        "model = Model([encoder_inputs, decoder_inputs], decoder_outputs) \n",
        "model.summary()"
      ],
      "execution_count": null,
      "outputs": [
        {
          "output_type": "stream",
          "text": [
            "Model: \"model\"\n",
            "__________________________________________________________________________________________________\n",
            "Layer (type)                    Output Shape         Param #     Connected to                     \n",
            "==================================================================================================\n",
            "input_1 (InputLayer)            [(None, 300)]        0                                            \n",
            "__________________________________________________________________________________________________\n",
            "embedding (Embedding)           (None, 300, 512)     1861120     input_1[0][0]                    \n",
            "__________________________________________________________________________________________________\n",
            "lstm (LSTM)                     [(None, 300, 512), ( 2099200     embedding[0][0]                  \n",
            "__________________________________________________________________________________________________\n",
            "input_2 (InputLayer)            [(None, None)]       0                                            \n",
            "__________________________________________________________________________________________________\n",
            "lstm_1 (LSTM)                   [(None, 300, 512), ( 2099200     lstm[0][0]                       \n",
            "__________________________________________________________________________________________________\n",
            "embedding_1 (Embedding)         (None, None, 512)    1040896     input_2[0][0]                    \n",
            "__________________________________________________________________________________________________\n",
            "lstm_2 (LSTM)                   [(None, 300, 512), ( 2099200     lstm_1[0][0]                     \n",
            "__________________________________________________________________________________________________\n",
            "lstm_3 (LSTM)                   [(None, None, 512),  2099200     embedding_1[0][0]                \n",
            "                                                                 lstm_2[0][1]                     \n",
            "                                                                 lstm_2[0][2]                     \n",
            "__________________________________________________________________________________________________\n",
            "attention_layer (AttentionLayer ((None, None, 512),  524800      lstm_2[0][0]                     \n",
            "                                                                 lstm_3[0][0]                     \n",
            "__________________________________________________________________________________________________\n",
            "concat_layer (Concatenate)      (None, None, 1024)   0           lstm_3[0][0]                     \n",
            "                                                                 attention_layer[0][0]            \n",
            "__________________________________________________________________________________________________\n",
            "time_distributed (TimeDistribut (None, None, 2033)   2083825     concat_layer[0][0]               \n",
            "==================================================================================================\n",
            "Total params: 13,907,441\n",
            "Trainable params: 13,907,441\n",
            "Non-trainable params: 0\n",
            "__________________________________________________________________________________________________\n"
          ],
          "name": "stdout"
        }
      ]
    },
    {
      "cell_type": "code",
      "metadata": {
        "colab": {
          "base_uri": "https://localhost:8080/"
        },
        "id": "1u6Wt-SopDKK",
        "outputId": "3fd37cc9-43a2-44ec-b5b3-da260c4228f2"
      },
      "source": [
        "model.compile(optimizer='rmsprop', loss='sparse_categorical_crossentropy')\n",
        "es = EarlyStopping(monitor='val_loss', mode='min', verbose=1)\n",
        "\n",
        "history=model.fit([x_tr,y_tr[:,:-1]], y_tr.reshape(y_tr.shape[0],y_tr.shape[1], 1)[:,1:] ,epochs=50,batch_size=512,callbacks=[es], validation_data=([x_val,y_val[:,:-1]], y_val.reshape(y_val.shape[0],y_val.shape[1], 1)[:,1:]))"
      ],
      "execution_count": null,
      "outputs": [
        {
          "output_type": "stream",
          "text": [
            "Epoch 1/50\n",
            "1/1 [==============================] - 10s 10s/step - loss: 6.9901 - val_loss: 7.3107\n",
            "Epoch 2/50\n",
            "1/1 [==============================] - 2s 2s/step - loss: 7.2516 - val_loss: 6.7903\n",
            "Epoch 3/50\n",
            "1/1 [==============================] - 2s 2s/step - loss: 6.6931 - val_loss: 6.6166\n",
            "Epoch 4/50\n",
            "1/1 [==============================] - 2s 2s/step - loss: 6.5258 - val_loss: 6.5496\n",
            "Epoch 5/50\n",
            "1/1 [==============================] - 2s 2s/step - loss: 6.4151 - val_loss: 6.5355\n",
            "Epoch 6/50\n",
            "1/1 [==============================] - 2s 2s/step - loss: 6.3692 - val_loss: 6.5256\n",
            "Epoch 7/50\n",
            "1/1 [==============================] - 2s 2s/step - loss: 6.3240 - val_loss: 6.5343\n",
            "Epoch 00007: early stopping\n"
          ],
          "name": "stdout"
        }
      ]
    },
    {
      "cell_type": "code",
      "metadata": {
        "colab": {
          "base_uri": "https://localhost:8080/",
          "height": 265
        },
        "id": "JqJ95DkCyJNU",
        "outputId": "5f0d5707-ebc8-4a6c-8ed5-86d0dd4b4bbb"
      },
      "source": [
        "from matplotlib import pyplot \n",
        "\n",
        "pyplot.plot(history.history['loss'], label='train') \n",
        "pyplot.plot(history.history['val_loss'], label='test') \n",
        "pyplot.legend()\n",
        "pyplot.show()"
      ],
      "execution_count": null,
      "outputs": [
        {
          "output_type": "display_data",
          "data": {
            "image/png": "[encoded data removed]",
            "text/plain": [
              "<Figure size 432x288 with 1 Axes>"
            ]
          },
          "metadata": {
            "tags": [],
            "needs_background": "light"
          }
        }
      ]
    },
    {
      "cell_type": "code",
      "metadata": {
        "id": "gAoG6Pa7yS_O"
      },
      "source": [
        "reverse_target_word_index=y_tokenizer.index_word\n",
        "reverse_source_word_index=x_tokenizer.index_word \n",
        "target_word_index=y_tokenizer.word_index"
      ],
      "execution_count": null,
      "outputs": []
    },
    {
      "cell_type": "code",
      "metadata": {
        "id": "uVwIXPLAyVTT"
      },
      "source": [
        "# encoder inference\n",
        "encoder_model = Model(inputs=encoder_inputs,outputs=[encoder_outputs, state_h, state_c])\n",
        "\n",
        "# decoder inference\n",
        "# Below tensors will hold the states of the previous time step\n",
        "decoder_state_input_h = Input(shape=(latent_dim,))\n",
        "decoder_state_input_c = Input(shape=(latent_dim,))\n",
        "decoder_hidden_state_input = Input(shape=(max_len_text,latent_dim))\n",
        "\n",
        "# Get the embeddings of the decoder sequence\n",
        "dec_emb2= dec_emb_layer(decoder_inputs)\n",
        "\n",
        "# To predict the next word in the sequence, set the initial states to the states from the previous time step\n",
        "decoder_outputs2, state_h2, state_c2 = decoder_lstm(dec_emb2, initial_state=[decoder_state_input_h, decoder_state_input_c])\n",
        "\n",
        "#attention inference\n",
        "attn_out_inf, attn_states_inf = attn_layer([decoder_hidden_state_input, decoder_outputs2])\n",
        "decoder_inf_concat = Concatenate(axis=-1, name='concat')([decoder_outputs2, attn_out_inf])\n",
        "\n",
        "# A dense softmax layer to generate prob dist. over the target vocabulary\n",
        "decoder_outputs2 = decoder_dense(decoder_inf_concat)\n",
        "\n",
        "# Final decoder model\n",
        "decoder_model = Model(\n",
        "[decoder_inputs] + [decoder_hidden_state_input,decoder_state_input_h, decoder_state_input_c],\n",
        "[decoder_outputs2] + [state_h2, state_c2])"
      ],
      "execution_count": null,
      "outputs": []
    },
    {
      "cell_type": "code",
      "metadata": {
        "id": "dc2ZxEbdyXf5"
      },
      "source": [
        "def decode_sequence(input_seq):\n",
        "    # Encode the input as state vectors.\n",
        "    e_out, e_h, e_c = encoder_model.predict(input_seq)\n",
        "\n",
        "    # Generate empty target sequence of length 1.\n",
        "    target_seq = np.zeros((1,1))\n",
        "\n",
        "    # Chose the 'start' word as the first word of the target sequence\n",
        "    target_seq[0, 0] = target_word_index['start']\n",
        "\n",
        "    stop_condition = False\n",
        "    decoded_sentence = ''\n",
        "    while not stop_condition:\n",
        "        output_tokens, h, c = decoder_model.predict([target_seq] + [e_out, e_h, e_c])\n",
        "\n",
        "        # Sample a token\n",
        "        sampled_token_index = np.argmax(output_tokens[0, -1, :])\n",
        "        sampled_token = reverse_target_word_index[sampled_token_index]\n",
        "\n",
        "        if(sampled_token!='end'):\n",
        "            decoded_sentence += ' '+sampled_token\n",
        "\n",
        "            # Exit condition: either hit max length or find stop word.\n",
        "            if (sampled_token == 'end' or len(decoded_sentence.split()) >= (max_len_summary-1)):\n",
        "                stop_condition = True\n",
        "\n",
        "        # Update the target sequence (of length 1).\n",
        "        target_seq = np.zeros((1,1))\n",
        "        target_seq[0, 0] = sampled_token_index\n",
        "\n",
        "        # Update internal states\n",
        "        e_h, e_c = h, c\n",
        "\n",
        "    return decoded_sentence"
      ],
      "execution_count": null,
      "outputs": []
    },
    {
      "cell_type": "code",
      "metadata": {
        "id": "vKJsPcz4yZg7"
      },
      "source": [
        "def seq2summary(input_seq):\n",
        "    newString=''\n",
        "    for i in input_seq:\n",
        "      if((i!=0 and i!=target_word_index['start']) and i!=target_word_index['end']):\n",
        "        newString=newString+reverse_target_word_index[i]+' '\n",
        "    return newString\n",
        "\n",
        "def seq2text(input_seq):\n",
        "    newString=''\n",
        "    for i in input_seq:\n",
        "      if(i!=0):\n",
        "        newString=newString+reverse_source_word_index[i]+' '\n",
        "    return newString"
      ],
      "execution_count": null,
      "outputs": []
    },
    {
      "cell_type": "code",
      "metadata": {
        "colab": {
          "base_uri": "https://localhost:8080/",
          "height": 458
        },
        "id": "dnfRghmlyxzl",
        "outputId": "483c36d0-0590-4feb-e0ed-615048700bfb"
      },
      "source": [
        "for i in range(len(x_val)):\n",
        "  print(\"Review:\",seq2text(x_val[i]))\n",
        "  print(\"Original summary:\",seq2summary(y_val[i]))\n",
        "  print(\"Predicted summary:\",decode_sequence(x_val[i].reshape(1,max_len_text)))\n",
        "  print(\"\\n\")"
      ],
      "execution_count": null,
      "outputs": [
        {
          "output_type": "stream",
          "text": [
            "Review: hành chính sách trọng dụng nhân tài nhân tài thành tích xuất sắc học tập công tác lao động bao gồm thủ khoa xuất sắc tiến sĩ bác sĩ giáo viên giảng viên huấn luyện viên chuyên gia nhà khoa học ngành nghệ nhân thành phố áp dụng chính sách ưu đãi tuyển dụng đãi ngộ tiếp nhận xét đặc cách thi tuyển hưởng đãi ngộ thu hút 20 lương tối thiểu hai công tác ưu tiên cử đào tạo sau đại học nước ngoài thành phố kinh phí chuyên gia giỏi nhà khoa học ngành nghệ nhân phương tiện đi lại làm việc nghiên cứu thù lao hợp đồng thỏa thuận cơ sở số lượng chất lượng hiệu quả công việc tiếp nhận tuyển dụng đặc cách nghĩa vụ trách nhiệm quy định cán bộ công chức viên chức cam kết làm việc cơ quan thành phố hà nội 7 cử đào tạo bồi dưỡng cam kết phục vụ đào tạo bồi dưỡng chiều 2 7 hđnd thông qua nghị quyết thẩm quyền thủ tục tặng danh hiệu công dân danh dự thủ đô danh hiệu áp dụng nước ngoài trao tặng đóng góp xuất sắc sự nghiệp xây dựng phát triển thủ đô mở rộng tăng cường đoàn kết hữu nghị quan hệ hợp tác quốc tế thủ đô mục tiêu hoà bình tiến bộ xã hội tôn trọng độc lập chủ quyền thống nhất toàn vẹn lãnh thổ luật pháp cộng hoà xã hội chủ nghĩa việt nam tặng danh hiệu áp dụng hình thức truy tặng danh hiệu thành phố trao tặng nghi thức đối ngoại công dân danh dự thủ đô công nhận sổ vàng truyền thống hà nội nghị quyết cụ thể hóa luật thủ đô hđnd thành phố thảo luận thông qua ' \n",
            "Original summary: đô áp dụng đối với người nước ngoài có đóng góp xuất sắc trong sự nghiệp xây dựng phát triển thủ đô hoặc mở rộng tăng cường tình đoàn kết hữu nghị quan hệ hợp tác quốc tế của thủ đô vì mục tiêu hoà bình tiến bộ xã \n"
          ],
          "name": "stdout"
        },
        {
          "output_type": "error",
          "ename": "KeyboardInterrupt",
          "evalue": "ignored",
          "traceback": [
            "\u001b[0;31m---------------------------------------------------------------------------\u001b[0m",
            "\u001b[0;31mKeyboardInterrupt\u001b[0m                         Traceback (most recent call last)",
            "\u001b[0;32m<ipython-input-260-83ccbead9d0f>\u001b[0m in \u001b[0;36m<module>\u001b[0;34m()\u001b[0m\n\u001b[1;32m      2\u001b[0m   \u001b[0mprint\u001b[0m\u001b[0;34m(\u001b[0m\u001b[0;34m\"Review:\"\u001b[0m\u001b[0;34m,\u001b[0m\u001b[0mseq2text\u001b[0m\u001b[0;34m(\u001b[0m\u001b[0mx_val\u001b[0m\u001b[0;34m[\u001b[0m\u001b[0mi\u001b[0m\u001b[0;34m]\u001b[0m\u001b[0;34m)\u001b[0m\u001b[0;34m)\u001b[0m\u001b[0;34m\u001b[0m\u001b[0;34m\u001b[0m\u001b[0m\n\u001b[1;32m      3\u001b[0m   \u001b[0mprint\u001b[0m\u001b[0;34m(\u001b[0m\u001b[0;34m\"Original summary:\"\u001b[0m\u001b[0;34m,\u001b[0m\u001b[0mseq2summary\u001b[0m\u001b[0;34m(\u001b[0m\u001b[0my_val\u001b[0m\u001b[0;34m[\u001b[0m\u001b[0mi\u001b[0m\u001b[0;34m]\u001b[0m\u001b[0;34m)\u001b[0m\u001b[0;34m)\u001b[0m\u001b[0;34m\u001b[0m\u001b[0;34m\u001b[0m\u001b[0m\n\u001b[0;32m----> 4\u001b[0;31m   \u001b[0mprint\u001b[0m\u001b[0;34m(\u001b[0m\u001b[0;34m\"Predicted summary:\"\u001b[0m\u001b[0;34m,\u001b[0m\u001b[0mdecode_sequence\u001b[0m\u001b[0;34m(\u001b[0m\u001b[0mx_val\u001b[0m\u001b[0;34m[\u001b[0m\u001b[0mi\u001b[0m\u001b[0;34m]\u001b[0m\u001b[0;34m.\u001b[0m\u001b[0mreshape\u001b[0m\u001b[0;34m(\u001b[0m\u001b[0;36m1\u001b[0m\u001b[0;34m,\u001b[0m\u001b[0mmax_len_text\u001b[0m\u001b[0;34m)\u001b[0m\u001b[0;34m)\u001b[0m\u001b[0;34m)\u001b[0m\u001b[0;34m\u001b[0m\u001b[0;34m\u001b[0m\u001b[0m\n\u001b[0m\u001b[1;32m      5\u001b[0m   \u001b[0mprint\u001b[0m\u001b[0;34m(\u001b[0m\u001b[0;34m\"\\n\"\u001b[0m\u001b[0;34m)\u001b[0m\u001b[0;34m\u001b[0m\u001b[0;34m\u001b[0m\u001b[0m\n",
            "\u001b[0;32m<ipython-input-258-4422db7d7f56>\u001b[0m in \u001b[0;36mdecode_sequence\u001b[0;34m(input_seq)\u001b[0m\n\u001b[1;32m     12\u001b[0m     \u001b[0mdecoded_sentence\u001b[0m \u001b[0;34m=\u001b[0m \u001b[0;34m''\u001b[0m\u001b[0;34m\u001b[0m\u001b[0;34m\u001b[0m\u001b[0m\n\u001b[1;32m     13\u001b[0m     \u001b[0;32mwhile\u001b[0m \u001b[0;32mnot\u001b[0m \u001b[0mstop_condition\u001b[0m\u001b[0;34m:\u001b[0m\u001b[0;34m\u001b[0m\u001b[0;34m\u001b[0m\u001b[0m\n\u001b[0;32m---> 14\u001b[0;31m         \u001b[0moutput_tokens\u001b[0m\u001b[0;34m,\u001b[0m \u001b[0mh\u001b[0m\u001b[0;34m,\u001b[0m \u001b[0mc\u001b[0m \u001b[0;34m=\u001b[0m \u001b[0mdecoder_model\u001b[0m\u001b[0;34m.\u001b[0m\u001b[0mpredict\u001b[0m\u001b[0;34m(\u001b[0m\u001b[0;34m[\u001b[0m\u001b[0mtarget_seq\u001b[0m\u001b[0;34m]\u001b[0m \u001b[0;34m+\u001b[0m \u001b[0;34m[\u001b[0m\u001b[0me_out\u001b[0m\u001b[0;34m,\u001b[0m \u001b[0me_h\u001b[0m\u001b[0;34m,\u001b[0m \u001b[0me_c\u001b[0m\u001b[0;34m]\u001b[0m\u001b[0;34m)\u001b[0m\u001b[0;34m\u001b[0m\u001b[0;34m\u001b[0m\u001b[0m\n\u001b[0m\u001b[1;32m     15\u001b[0m \u001b[0;34m\u001b[0m\u001b[0m\n\u001b[1;32m     16\u001b[0m         \u001b[0;31m# Sample a token\u001b[0m\u001b[0;34m\u001b[0m\u001b[0;34m\u001b[0m\u001b[0;34m\u001b[0m\u001b[0m\n",
            "\u001b[0;32m/usr/local/lib/python3.7/dist-packages/tensorflow/python/keras/engine/training.py\u001b[0m in \u001b[0;36mpredict\u001b[0;34m(self, x, batch_size, verbose, steps, callbacks, max_queue_size, workers, use_multiprocessing)\u001b[0m\n\u001b[1;32m   1606\u001b[0m           \u001b[0muse_multiprocessing\u001b[0m\u001b[0;34m=\u001b[0m\u001b[0muse_multiprocessing\u001b[0m\u001b[0;34m,\u001b[0m\u001b[0;34m\u001b[0m\u001b[0;34m\u001b[0m\u001b[0m\n\u001b[1;32m   1607\u001b[0m           \u001b[0mmodel\u001b[0m\u001b[0;34m=\u001b[0m\u001b[0mself\u001b[0m\u001b[0;34m,\u001b[0m\u001b[0;34m\u001b[0m\u001b[0;34m\u001b[0m\u001b[0m\n\u001b[0;32m-> 1608\u001b[0;31m           steps_per_execution=self._steps_per_execution)\n\u001b[0m\u001b[1;32m   1609\u001b[0m \u001b[0;34m\u001b[0m\u001b[0m\n\u001b[1;32m   1610\u001b[0m       \u001b[0;31m# Container that configures and calls `tf.keras.Callback`s.\u001b[0m\u001b[0;34m\u001b[0m\u001b[0;34m\u001b[0m\u001b[0;34m\u001b[0m\u001b[0m\n",
            "\u001b[0;32m/usr/local/lib/python3.7/dist-packages/tensorflow/python/keras/engine/data_adapter.py\u001b[0m in \u001b[0;36m__init__\u001b[0;34m(self, x, y, sample_weight, batch_size, steps_per_epoch, initial_epoch, epochs, shuffle, class_weight, max_queue_size, workers, use_multiprocessing, model, steps_per_execution)\u001b[0m\n\u001b[1;32m   1110\u001b[0m         \u001b[0muse_multiprocessing\u001b[0m\u001b[0;34m=\u001b[0m\u001b[0muse_multiprocessing\u001b[0m\u001b[0;34m,\u001b[0m\u001b[0;34m\u001b[0m\u001b[0;34m\u001b[0m\u001b[0m\n\u001b[1;32m   1111\u001b[0m         \u001b[0mdistribution_strategy\u001b[0m\u001b[0;34m=\u001b[0m\u001b[0mds_context\u001b[0m\u001b[0;34m.\u001b[0m\u001b[0mget_strategy\u001b[0m\u001b[0;34m(\u001b[0m\u001b[0;34m)\u001b[0m\u001b[0;34m,\u001b[0m\u001b[0;34m\u001b[0m\u001b[0;34m\u001b[0m\u001b[0m\n\u001b[0;32m-> 1112\u001b[0;31m         model=model)\n\u001b[0m\u001b[1;32m   1113\u001b[0m \u001b[0;34m\u001b[0m\u001b[0m\n\u001b[1;32m   1114\u001b[0m     \u001b[0mstrategy\u001b[0m \u001b[0;34m=\u001b[0m \u001b[0mds_context\u001b[0m\u001b[0;34m.\u001b[0m\u001b[0mget_strategy\u001b[0m\u001b[0;34m(\u001b[0m\u001b[0;34m)\u001b[0m\u001b[0;34m\u001b[0m\u001b[0;34m\u001b[0m\u001b[0m\n",
            "\u001b[0;32m/usr/local/lib/python3.7/dist-packages/tensorflow/python/keras/engine/data_adapter.py\u001b[0m in \u001b[0;36m__init__\u001b[0;34m(self, x, y, sample_weights, sample_weight_modes, batch_size, epochs, steps, shuffle, **kwargs)\u001b[0m\n\u001b[1;32m    351\u001b[0m       \u001b[0;32mreturn\u001b[0m \u001b[0mflat_dataset\u001b[0m\u001b[0;34m\u001b[0m\u001b[0;34m\u001b[0m\u001b[0m\n\u001b[1;32m    352\u001b[0m \u001b[0;34m\u001b[0m\u001b[0m\n\u001b[0;32m--> 353\u001b[0;31m     \u001b[0mindices_dataset\u001b[0m \u001b[0;34m=\u001b[0m \u001b[0mindices_dataset\u001b[0m\u001b[0;34m.\u001b[0m\u001b[0mflat_map\u001b[0m\u001b[0;34m(\u001b[0m\u001b[0mslice_batch_indices\u001b[0m\u001b[0;34m)\u001b[0m\u001b[0;34m\u001b[0m\u001b[0;34m\u001b[0m\u001b[0m\n\u001b[0m\u001b[1;32m    354\u001b[0m \u001b[0;34m\u001b[0m\u001b[0m\n\u001b[1;32m    355\u001b[0m     \u001b[0mdataset\u001b[0m \u001b[0;34m=\u001b[0m \u001b[0mself\u001b[0m\u001b[0;34m.\u001b[0m\u001b[0mslice_inputs\u001b[0m\u001b[0;34m(\u001b[0m\u001b[0mindices_dataset\u001b[0m\u001b[0;34m,\u001b[0m \u001b[0minputs\u001b[0m\u001b[0;34m)\u001b[0m\u001b[0;34m\u001b[0m\u001b[0;34m\u001b[0m\u001b[0m\n",
            "\u001b[0;32m/usr/local/lib/python3.7/dist-packages/tensorflow/python/data/ops/dataset_ops.py\u001b[0m in \u001b[0;36mflat_map\u001b[0;34m(self, map_func)\u001b[0m\n\u001b[1;32m   1835\u001b[0m       \u001b[0mDataset\u001b[0m\u001b[0;34m:\u001b[0m \u001b[0mA\u001b[0m\u001b[0;31m \u001b[0m\u001b[0;31m`\u001b[0m\u001b[0mDataset\u001b[0m\u001b[0;31m`\u001b[0m\u001b[0;34m.\u001b[0m\u001b[0;34m\u001b[0m\u001b[0;34m\u001b[0m\u001b[0m\n\u001b[1;32m   1836\u001b[0m     \"\"\"\n\u001b[0;32m-> 1837\u001b[0;31m     \u001b[0;32mreturn\u001b[0m \u001b[0mFlatMapDataset\u001b[0m\u001b[0;34m(\u001b[0m\u001b[0mself\u001b[0m\u001b[0;34m,\u001b[0m \u001b[0mmap_func\u001b[0m\u001b[0;34m)\u001b[0m\u001b[0;34m\u001b[0m\u001b[0;34m\u001b[0m\u001b[0m\n\u001b[0m\u001b[1;32m   1838\u001b[0m \u001b[0;34m\u001b[0m\u001b[0m\n\u001b[1;32m   1839\u001b[0m   def interleave(self,\n",
            "\u001b[0;32m/usr/local/lib/python3.7/dist-packages/tensorflow/python/data/ops/dataset_ops.py\u001b[0m in \u001b[0;36m__init__\u001b[0;34m(self, input_dataset, map_func)\u001b[0m\n\u001b[1;32m   4283\u001b[0m     \u001b[0mself\u001b[0m\u001b[0;34m.\u001b[0m\u001b[0m_input_dataset\u001b[0m \u001b[0;34m=\u001b[0m \u001b[0minput_dataset\u001b[0m\u001b[0;34m\u001b[0m\u001b[0;34m\u001b[0m\u001b[0m\n\u001b[1;32m   4284\u001b[0m     self._map_func = StructuredFunctionWrapper(\n\u001b[0;32m-> 4285\u001b[0;31m         map_func, self._transformation_name(), dataset=input_dataset)\n\u001b[0m\u001b[1;32m   4286\u001b[0m     \u001b[0;32mif\u001b[0m \u001b[0;32mnot\u001b[0m \u001b[0misinstance\u001b[0m\u001b[0;34m(\u001b[0m\u001b[0mself\u001b[0m\u001b[0;34m.\u001b[0m\u001b[0m_map_func\u001b[0m\u001b[0;34m.\u001b[0m\u001b[0moutput_structure\u001b[0m\u001b[0;34m,\u001b[0m \u001b[0mDatasetSpec\u001b[0m\u001b[0;34m)\u001b[0m\u001b[0;34m:\u001b[0m\u001b[0;34m\u001b[0m\u001b[0;34m\u001b[0m\u001b[0m\n\u001b[1;32m   4287\u001b[0m       raise TypeError(\n",
            "\u001b[0;32m/usr/local/lib/python3.7/dist-packages/tensorflow/python/data/ops/dataset_ops.py\u001b[0m in \u001b[0;36m__init__\u001b[0;34m(self, func, transformation_name, dataset, input_classes, input_shapes, input_types, input_structure, add_to_graph, use_legacy_function, defun_kwargs)\u001b[0m\n\u001b[1;32m   3523\u001b[0m       \u001b[0;32mwith\u001b[0m \u001b[0mtracking\u001b[0m\u001b[0;34m.\u001b[0m\u001b[0mresource_tracker_scope\u001b[0m\u001b[0;34m(\u001b[0m\u001b[0mresource_tracker\u001b[0m\u001b[0;34m)\u001b[0m\u001b[0;34m:\u001b[0m\u001b[0;34m\u001b[0m\u001b[0;34m\u001b[0m\u001b[0m\n\u001b[1;32m   3524\u001b[0m         \u001b[0;31m# TODO(b/141462134): Switch to using garbage collection.\u001b[0m\u001b[0;34m\u001b[0m\u001b[0;34m\u001b[0m\u001b[0;34m\u001b[0m\u001b[0m\n\u001b[0;32m-> 3525\u001b[0;31m         \u001b[0mself\u001b[0m\u001b[0;34m.\u001b[0m\u001b[0m_function\u001b[0m \u001b[0;34m=\u001b[0m \u001b[0mwrapper_fn\u001b[0m\u001b[0;34m.\u001b[0m\u001b[0mget_concrete_function\u001b[0m\u001b[0;34m(\u001b[0m\u001b[0;34m)\u001b[0m\u001b[0;34m\u001b[0m\u001b[0;34m\u001b[0m\u001b[0m\n\u001b[0m\u001b[1;32m   3526\u001b[0m         \u001b[0;32mif\u001b[0m \u001b[0madd_to_graph\u001b[0m\u001b[0;34m:\u001b[0m\u001b[0;34m\u001b[0m\u001b[0;34m\u001b[0m\u001b[0m\n\u001b[1;32m   3527\u001b[0m           \u001b[0mself\u001b[0m\u001b[0;34m.\u001b[0m\u001b[0m_function\u001b[0m\u001b[0;34m.\u001b[0m\u001b[0madd_to_graph\u001b[0m\u001b[0;34m(\u001b[0m\u001b[0mops\u001b[0m\u001b[0;34m.\u001b[0m\u001b[0mget_default_graph\u001b[0m\u001b[0;34m(\u001b[0m\u001b[0;34m)\u001b[0m\u001b[0;34m)\u001b[0m\u001b[0;34m\u001b[0m\u001b[0;34m\u001b[0m\u001b[0m\n",
            "\u001b[0;32m/usr/local/lib/python3.7/dist-packages/tensorflow/python/eager/function.py\u001b[0m in \u001b[0;36mget_concrete_function\u001b[0;34m(self, *args, **kwargs)\u001b[0m\n\u001b[1;32m   3050\u001b[0m     \"\"\"\n\u001b[1;32m   3051\u001b[0m     graph_function = self._get_concrete_function_garbage_collected(\n\u001b[0;32m-> 3052\u001b[0;31m         *args, **kwargs)\n\u001b[0m\u001b[1;32m   3053\u001b[0m     \u001b[0mgraph_function\u001b[0m\u001b[0;34m.\u001b[0m\u001b[0m_garbage_collector\u001b[0m\u001b[0;34m.\u001b[0m\u001b[0mrelease\u001b[0m\u001b[0;34m(\u001b[0m\u001b[0;34m)\u001b[0m  \u001b[0;31m# pylint: disable=protected-access\u001b[0m\u001b[0;34m\u001b[0m\u001b[0;34m\u001b[0m\u001b[0m\n\u001b[1;32m   3054\u001b[0m     \u001b[0;32mreturn\u001b[0m \u001b[0mgraph_function\u001b[0m\u001b[0;34m\u001b[0m\u001b[0;34m\u001b[0m\u001b[0m\n",
            "\u001b[0;32m/usr/local/lib/python3.7/dist-packages/tensorflow/python/eager/function.py\u001b[0m in \u001b[0;36m_get_concrete_function_garbage_collected\u001b[0;34m(self, *args, **kwargs)\u001b[0m\n\u001b[1;32m   3017\u001b[0m       \u001b[0margs\u001b[0m\u001b[0;34m,\u001b[0m \u001b[0mkwargs\u001b[0m \u001b[0;34m=\u001b[0m \u001b[0;32mNone\u001b[0m\u001b[0;34m,\u001b[0m \u001b[0;32mNone\u001b[0m\u001b[0;34m\u001b[0m\u001b[0;34m\u001b[0m\u001b[0m\n\u001b[1;32m   3018\u001b[0m     \u001b[0;32mwith\u001b[0m \u001b[0mself\u001b[0m\u001b[0;34m.\u001b[0m\u001b[0m_lock\u001b[0m\u001b[0;34m:\u001b[0m\u001b[0;34m\u001b[0m\u001b[0;34m\u001b[0m\u001b[0m\n\u001b[0;32m-> 3019\u001b[0;31m       \u001b[0mgraph_function\u001b[0m\u001b[0;34m,\u001b[0m \u001b[0m_\u001b[0m \u001b[0;34m=\u001b[0m \u001b[0mself\u001b[0m\u001b[0;34m.\u001b[0m\u001b[0m_maybe_define_function\u001b[0m\u001b[0;34m(\u001b[0m\u001b[0margs\u001b[0m\u001b[0;34m,\u001b[0m \u001b[0mkwargs\u001b[0m\u001b[0;34m)\u001b[0m\u001b[0;34m\u001b[0m\u001b[0;34m\u001b[0m\u001b[0m\n\u001b[0m\u001b[1;32m   3020\u001b[0m       \u001b[0mseen_names\u001b[0m \u001b[0;34m=\u001b[0m \u001b[0mset\u001b[0m\u001b[0;34m(\u001b[0m\u001b[0;34m)\u001b[0m\u001b[0;34m\u001b[0m\u001b[0;34m\u001b[0m\u001b[0m\n\u001b[1;32m   3021\u001b[0m       captured = object_identity.ObjectIdentitySet(\n",
            "\u001b[0;32m/usr/local/lib/python3.7/dist-packages/tensorflow/python/eager/function.py\u001b[0m in \u001b[0;36m_maybe_define_function\u001b[0;34m(self, args, kwargs)\u001b[0m\n\u001b[1;32m   3359\u001b[0m \u001b[0;34m\u001b[0m\u001b[0m\n\u001b[1;32m   3360\u001b[0m           \u001b[0mself\u001b[0m\u001b[0;34m.\u001b[0m\u001b[0m_function_cache\u001b[0m\u001b[0;34m.\u001b[0m\u001b[0mmissed\u001b[0m\u001b[0;34m.\u001b[0m\u001b[0madd\u001b[0m\u001b[0;34m(\u001b[0m\u001b[0mcall_context_key\u001b[0m\u001b[0;34m)\u001b[0m\u001b[0;34m\u001b[0m\u001b[0;34m\u001b[0m\u001b[0m\n\u001b[0;32m-> 3361\u001b[0;31m           \u001b[0mgraph_function\u001b[0m \u001b[0;34m=\u001b[0m \u001b[0mself\u001b[0m\u001b[0;34m.\u001b[0m\u001b[0m_create_graph_function\u001b[0m\u001b[0;34m(\u001b[0m\u001b[0margs\u001b[0m\u001b[0;34m,\u001b[0m \u001b[0mkwargs\u001b[0m\u001b[0;34m)\u001b[0m\u001b[0;34m\u001b[0m\u001b[0;34m\u001b[0m\u001b[0m\n\u001b[0m\u001b[1;32m   3362\u001b[0m           \u001b[0mself\u001b[0m\u001b[0;34m.\u001b[0m\u001b[0m_function_cache\u001b[0m\u001b[0;34m.\u001b[0m\u001b[0mprimary\u001b[0m\u001b[0;34m[\u001b[0m\u001b[0mcache_key\u001b[0m\u001b[0;34m]\u001b[0m \u001b[0;34m=\u001b[0m \u001b[0mgraph_function\u001b[0m\u001b[0;34m\u001b[0m\u001b[0;34m\u001b[0m\u001b[0m\n\u001b[1;32m   3363\u001b[0m \u001b[0;34m\u001b[0m\u001b[0m\n",
            "\u001b[0;32m/usr/local/lib/python3.7/dist-packages/tensorflow/python/eager/function.py\u001b[0m in \u001b[0;36m_create_graph_function\u001b[0;34m(self, args, kwargs, override_flat_arg_shapes)\u001b[0m\n\u001b[1;32m   3204\u001b[0m             \u001b[0marg_names\u001b[0m\u001b[0;34m=\u001b[0m\u001b[0marg_names\u001b[0m\u001b[0;34m,\u001b[0m\u001b[0;34m\u001b[0m\u001b[0;34m\u001b[0m\u001b[0m\n\u001b[1;32m   3205\u001b[0m             \u001b[0moverride_flat_arg_shapes\u001b[0m\u001b[0;34m=\u001b[0m\u001b[0moverride_flat_arg_shapes\u001b[0m\u001b[0;34m,\u001b[0m\u001b[0;34m\u001b[0m\u001b[0;34m\u001b[0m\u001b[0m\n\u001b[0;32m-> 3206\u001b[0;31m             capture_by_value=self._capture_by_value),\n\u001b[0m\u001b[1;32m   3207\u001b[0m         \u001b[0mself\u001b[0m\u001b[0;34m.\u001b[0m\u001b[0m_function_attributes\u001b[0m\u001b[0;34m,\u001b[0m\u001b[0;34m\u001b[0m\u001b[0;34m\u001b[0m\u001b[0m\n\u001b[1;32m   3208\u001b[0m         \u001b[0mfunction_spec\u001b[0m\u001b[0;34m=\u001b[0m\u001b[0mself\u001b[0m\u001b[0;34m.\u001b[0m\u001b[0mfunction_spec\u001b[0m\u001b[0;34m,\u001b[0m\u001b[0;34m\u001b[0m\u001b[0;34m\u001b[0m\u001b[0m\n",
            "\u001b[0;32m/usr/local/lib/python3.7/dist-packages/tensorflow/python/framework/func_graph.py\u001b[0m in \u001b[0;36mfunc_graph_from_py_func\u001b[0;34m(name, python_func, args, kwargs, signature, func_graph, autograph, autograph_options, add_control_dependencies, arg_names, op_return_value, collections, capture_by_value, override_flat_arg_shapes)\u001b[0m\n\u001b[1;32m    988\u001b[0m         \u001b[0m_\u001b[0m\u001b[0;34m,\u001b[0m \u001b[0moriginal_func\u001b[0m \u001b[0;34m=\u001b[0m \u001b[0mtf_decorator\u001b[0m\u001b[0;34m.\u001b[0m\u001b[0munwrap\u001b[0m\u001b[0;34m(\u001b[0m\u001b[0mpython_func\u001b[0m\u001b[0;34m)\u001b[0m\u001b[0;34m\u001b[0m\u001b[0;34m\u001b[0m\u001b[0m\n\u001b[1;32m    989\u001b[0m \u001b[0;34m\u001b[0m\u001b[0m\n\u001b[0;32m--> 990\u001b[0;31m       \u001b[0mfunc_outputs\u001b[0m \u001b[0;34m=\u001b[0m \u001b[0mpython_func\u001b[0m\u001b[0;34m(\u001b[0m\u001b[0;34m*\u001b[0m\u001b[0mfunc_args\u001b[0m\u001b[0;34m,\u001b[0m \u001b[0;34m**\u001b[0m\u001b[0mfunc_kwargs\u001b[0m\u001b[0;34m)\u001b[0m\u001b[0;34m\u001b[0m\u001b[0;34m\u001b[0m\u001b[0m\n\u001b[0m\u001b[1;32m    991\u001b[0m \u001b[0;34m\u001b[0m\u001b[0m\n\u001b[1;32m    992\u001b[0m       \u001b[0;31m# invariant: `func_outputs` contains only Tensors, CompositeTensors,\u001b[0m\u001b[0;34m\u001b[0m\u001b[0;34m\u001b[0m\u001b[0;34m\u001b[0m\u001b[0m\n",
            "\u001b[0;32m/usr/local/lib/python3.7/dist-packages/tensorflow/python/data/ops/dataset_ops.py\u001b[0m in \u001b[0;36mwrapper_fn\u001b[0;34m(*args)\u001b[0m\n\u001b[1;32m   3516\u001b[0m           attributes=defun_kwargs)\n\u001b[1;32m   3517\u001b[0m       \u001b[0;32mdef\u001b[0m \u001b[0mwrapper_fn\u001b[0m\u001b[0;34m(\u001b[0m\u001b[0;34m*\u001b[0m\u001b[0margs\u001b[0m\u001b[0;34m)\u001b[0m\u001b[0;34m:\u001b[0m  \u001b[0;31m# pylint: disable=missing-docstring\u001b[0m\u001b[0;34m\u001b[0m\u001b[0;34m\u001b[0m\u001b[0m\n\u001b[0;32m-> 3518\u001b[0;31m         \u001b[0mret\u001b[0m \u001b[0;34m=\u001b[0m \u001b[0m_wrapper_helper\u001b[0m\u001b[0;34m(\u001b[0m\u001b[0;34m*\u001b[0m\u001b[0margs\u001b[0m\u001b[0;34m)\u001b[0m\u001b[0;34m\u001b[0m\u001b[0;34m\u001b[0m\u001b[0m\n\u001b[0m\u001b[1;32m   3519\u001b[0m         \u001b[0mret\u001b[0m \u001b[0;34m=\u001b[0m \u001b[0mstructure\u001b[0m\u001b[0;34m.\u001b[0m\u001b[0mto_tensor_list\u001b[0m\u001b[0;34m(\u001b[0m\u001b[0mself\u001b[0m\u001b[0;34m.\u001b[0m\u001b[0m_output_structure\u001b[0m\u001b[0;34m,\u001b[0m \u001b[0mret\u001b[0m\u001b[0;34m)\u001b[0m\u001b[0;34m\u001b[0m\u001b[0;34m\u001b[0m\u001b[0m\n\u001b[1;32m   3520\u001b[0m         \u001b[0;32mreturn\u001b[0m \u001b[0;34m[\u001b[0m\u001b[0mops\u001b[0m\u001b[0;34m.\u001b[0m\u001b[0mconvert_to_tensor\u001b[0m\u001b[0;34m(\u001b[0m\u001b[0mt\u001b[0m\u001b[0;34m)\u001b[0m \u001b[0;32mfor\u001b[0m \u001b[0mt\u001b[0m \u001b[0;32min\u001b[0m \u001b[0mret\u001b[0m\u001b[0;34m]\u001b[0m\u001b[0;34m\u001b[0m\u001b[0;34m\u001b[0m\u001b[0m\n",
            "\u001b[0;32m/usr/local/lib/python3.7/dist-packages/tensorflow/python/data/ops/dataset_ops.py\u001b[0m in \u001b[0;36m_wrapper_helper\u001b[0;34m(*args)\u001b[0m\n\u001b[1;32m   3451\u001b[0m         \u001b[0mnested_args\u001b[0m \u001b[0;34m=\u001b[0m \u001b[0;34m(\u001b[0m\u001b[0mnested_args\u001b[0m\u001b[0;34m,\u001b[0m\u001b[0;34m)\u001b[0m\u001b[0;34m\u001b[0m\u001b[0;34m\u001b[0m\u001b[0m\n\u001b[1;32m   3452\u001b[0m \u001b[0;34m\u001b[0m\u001b[0m\n\u001b[0;32m-> 3453\u001b[0;31m       \u001b[0mret\u001b[0m \u001b[0;34m=\u001b[0m \u001b[0mautograph\u001b[0m\u001b[0;34m.\u001b[0m\u001b[0mtf_convert\u001b[0m\u001b[0;34m(\u001b[0m\u001b[0mfunc\u001b[0m\u001b[0;34m,\u001b[0m \u001b[0mag_ctx\u001b[0m\u001b[0;34m)\u001b[0m\u001b[0;34m(\u001b[0m\u001b[0;34m*\u001b[0m\u001b[0mnested_args\u001b[0m\u001b[0;34m)\u001b[0m\u001b[0;34m\u001b[0m\u001b[0;34m\u001b[0m\u001b[0m\n\u001b[0m\u001b[1;32m   3454\u001b[0m       \u001b[0;31m# If `func` returns a list of tensors, `nest.flatten()` and\u001b[0m\u001b[0;34m\u001b[0m\u001b[0;34m\u001b[0m\u001b[0;34m\u001b[0m\u001b[0m\n\u001b[1;32m   3455\u001b[0m       \u001b[0;31m# `ops.convert_to_tensor()` would conspire to attempt to stack\u001b[0m\u001b[0;34m\u001b[0m\u001b[0;34m\u001b[0m\u001b[0;34m\u001b[0m\u001b[0m\n",
            "\u001b[0;32m/usr/local/lib/python3.7/dist-packages/tensorflow/python/autograph/impl/api.py\u001b[0m in \u001b[0;36mwrapper\u001b[0;34m(*args, **kwargs)\u001b[0m\n\u001b[1;32m    665\u001b[0m       \u001b[0;32mtry\u001b[0m\u001b[0;34m:\u001b[0m\u001b[0;34m\u001b[0m\u001b[0;34m\u001b[0m\u001b[0m\n\u001b[1;32m    666\u001b[0m         \u001b[0;32mwith\u001b[0m \u001b[0mconversion_ctx\u001b[0m\u001b[0;34m:\u001b[0m\u001b[0;34m\u001b[0m\u001b[0;34m\u001b[0m\u001b[0m\n\u001b[0;32m--> 667\u001b[0;31m           \u001b[0;32mreturn\u001b[0m \u001b[0mconverted_call\u001b[0m\u001b[0;34m(\u001b[0m\u001b[0mf\u001b[0m\u001b[0;34m,\u001b[0m \u001b[0margs\u001b[0m\u001b[0;34m,\u001b[0m \u001b[0mkwargs\u001b[0m\u001b[0;34m,\u001b[0m \u001b[0moptions\u001b[0m\u001b[0;34m=\u001b[0m\u001b[0moptions\u001b[0m\u001b[0;34m)\u001b[0m\u001b[0;34m\u001b[0m\u001b[0;34m\u001b[0m\u001b[0m\n\u001b[0m\u001b[1;32m    668\u001b[0m       \u001b[0;32mexcept\u001b[0m \u001b[0mException\u001b[0m \u001b[0;32mas\u001b[0m \u001b[0me\u001b[0m\u001b[0;34m:\u001b[0m  \u001b[0;31m# pylint:disable=broad-except\u001b[0m\u001b[0;34m\u001b[0m\u001b[0;34m\u001b[0m\u001b[0m\n\u001b[1;32m    669\u001b[0m         \u001b[0;32mif\u001b[0m \u001b[0mhasattr\u001b[0m\u001b[0;34m(\u001b[0m\u001b[0me\u001b[0m\u001b[0;34m,\u001b[0m \u001b[0;34m'ag_error_metadata'\u001b[0m\u001b[0;34m)\u001b[0m\u001b[0;34m:\u001b[0m\u001b[0;34m\u001b[0m\u001b[0;34m\u001b[0m\u001b[0m\n",
            "\u001b[0;32m/usr/local/lib/python3.7/dist-packages/tensorflow/python/autograph/impl/api.py\u001b[0m in \u001b[0;36mconverted_call\u001b[0;34m(f, args, kwargs, caller_fn_scope, options)\u001b[0m\n\u001b[1;32m    394\u001b[0m \u001b[0;34m\u001b[0m\u001b[0m\n\u001b[1;32m    395\u001b[0m   \u001b[0;32mif\u001b[0m \u001b[0;32mnot\u001b[0m \u001b[0moptions\u001b[0m\u001b[0;34m.\u001b[0m\u001b[0muser_requested\u001b[0m \u001b[0;32mand\u001b[0m \u001b[0mconversion\u001b[0m\u001b[0;34m.\u001b[0m\u001b[0mis_allowlisted\u001b[0m\u001b[0;34m(\u001b[0m\u001b[0mf\u001b[0m\u001b[0;34m)\u001b[0m\u001b[0;34m:\u001b[0m\u001b[0;34m\u001b[0m\u001b[0;34m\u001b[0m\u001b[0m\n\u001b[0;32m--> 396\u001b[0;31m     \u001b[0;32mreturn\u001b[0m \u001b[0m_call_unconverted\u001b[0m\u001b[0;34m(\u001b[0m\u001b[0mf\u001b[0m\u001b[0;34m,\u001b[0m \u001b[0margs\u001b[0m\u001b[0;34m,\u001b[0m \u001b[0mkwargs\u001b[0m\u001b[0;34m,\u001b[0m \u001b[0moptions\u001b[0m\u001b[0;34m)\u001b[0m\u001b[0;34m\u001b[0m\u001b[0;34m\u001b[0m\u001b[0m\n\u001b[0m\u001b[1;32m    397\u001b[0m \u001b[0;34m\u001b[0m\u001b[0m\n\u001b[1;32m    398\u001b[0m   \u001b[0;31m# internal_convert_user_code is for example turned off when issuing a dynamic\u001b[0m\u001b[0;34m\u001b[0m\u001b[0;34m\u001b[0m\u001b[0;34m\u001b[0m\u001b[0m\n",
            "\u001b[0;32m/usr/local/lib/python3.7/dist-packages/tensorflow/python/autograph/impl/api.py\u001b[0m in \u001b[0;36m_call_unconverted\u001b[0;34m(f, args, kwargs, options, update_cache)\u001b[0m\n\u001b[1;32m    476\u001b[0m \u001b[0;34m\u001b[0m\u001b[0m\n\u001b[1;32m    477\u001b[0m   \u001b[0;32mif\u001b[0m \u001b[0mkwargs\u001b[0m \u001b[0;32mis\u001b[0m \u001b[0;32mnot\u001b[0m \u001b[0;32mNone\u001b[0m\u001b[0;34m:\u001b[0m\u001b[0;34m\u001b[0m\u001b[0;34m\u001b[0m\u001b[0m\n\u001b[0;32m--> 478\u001b[0;31m     \u001b[0;32mreturn\u001b[0m \u001b[0mf\u001b[0m\u001b[0;34m(\u001b[0m\u001b[0;34m*\u001b[0m\u001b[0margs\u001b[0m\u001b[0;34m,\u001b[0m \u001b[0;34m**\u001b[0m\u001b[0mkwargs\u001b[0m\u001b[0;34m)\u001b[0m\u001b[0;34m\u001b[0m\u001b[0;34m\u001b[0m\u001b[0m\n\u001b[0m\u001b[1;32m    479\u001b[0m   \u001b[0;32mreturn\u001b[0m \u001b[0mf\u001b[0m\u001b[0;34m(\u001b[0m\u001b[0;34m*\u001b[0m\u001b[0margs\u001b[0m\u001b[0;34m)\u001b[0m\u001b[0;34m\u001b[0m\u001b[0;34m\u001b[0m\u001b[0m\n\u001b[1;32m    480\u001b[0m \u001b[0;34m\u001b[0m\u001b[0m\n",
            "\u001b[0;32m/usr/local/lib/python3.7/dist-packages/tensorflow/python/keras/engine/data_adapter.py\u001b[0m in \u001b[0;36mslice_batch_indices\u001b[0;34m(indices)\u001b[0m\n\u001b[1;32m    336\u001b[0m       \"\"\"\n\u001b[1;32m    337\u001b[0m       \u001b[0mnum_in_full_batch\u001b[0m \u001b[0;34m=\u001b[0m \u001b[0mnum_full_batches\u001b[0m \u001b[0;34m*\u001b[0m \u001b[0mbatch_size\u001b[0m\u001b[0;34m\u001b[0m\u001b[0;34m\u001b[0m\u001b[0m\n\u001b[0;32m--> 338\u001b[0;31m       \u001b[0mfirst_k_indices\u001b[0m \u001b[0;34m=\u001b[0m \u001b[0marray_ops\u001b[0m\u001b[0;34m.\u001b[0m\u001b[0mslice\u001b[0m\u001b[0;34m(\u001b[0m\u001b[0mindices\u001b[0m\u001b[0;34m,\u001b[0m \u001b[0;34m[\u001b[0m\u001b[0;36m0\u001b[0m\u001b[0;34m]\u001b[0m\u001b[0;34m,\u001b[0m \u001b[0;34m[\u001b[0m\u001b[0mnum_in_full_batch\u001b[0m\u001b[0;34m]\u001b[0m\u001b[0;34m)\u001b[0m\u001b[0;34m\u001b[0m\u001b[0;34m\u001b[0m\u001b[0m\n\u001b[0m\u001b[1;32m    339\u001b[0m       first_k_indices = array_ops.reshape(\n\u001b[1;32m    340\u001b[0m           first_k_indices, [num_full_batches, batch_size])\n",
            "\u001b[0;32m/usr/local/lib/python3.7/dist-packages/tensorflow/python/util/dispatch.py\u001b[0m in \u001b[0;36mwrapper\u001b[0;34m(*args, **kwargs)\u001b[0m\n\u001b[1;32m    199\u001b[0m     \u001b[0;34m\"\"\"Call target, and fall back on dispatchers if there is a TypeError.\"\"\"\u001b[0m\u001b[0;34m\u001b[0m\u001b[0;34m\u001b[0m\u001b[0m\n\u001b[1;32m    200\u001b[0m     \u001b[0;32mtry\u001b[0m\u001b[0;34m:\u001b[0m\u001b[0;34m\u001b[0m\u001b[0;34m\u001b[0m\u001b[0m\n\u001b[0;32m--> 201\u001b[0;31m       \u001b[0;32mreturn\u001b[0m \u001b[0mtarget\u001b[0m\u001b[0;34m(\u001b[0m\u001b[0;34m*\u001b[0m\u001b[0margs\u001b[0m\u001b[0;34m,\u001b[0m \u001b[0;34m**\u001b[0m\u001b[0mkwargs\u001b[0m\u001b[0;34m)\u001b[0m\u001b[0;34m\u001b[0m\u001b[0;34m\u001b[0m\u001b[0m\n\u001b[0m\u001b[1;32m    202\u001b[0m     \u001b[0;32mexcept\u001b[0m \u001b[0;34m(\u001b[0m\u001b[0mTypeError\u001b[0m\u001b[0;34m,\u001b[0m \u001b[0mValueError\u001b[0m\u001b[0;34m)\u001b[0m\u001b[0;34m:\u001b[0m\u001b[0;34m\u001b[0m\u001b[0;34m\u001b[0m\u001b[0m\n\u001b[1;32m    203\u001b[0m       \u001b[0;31m# Note: convert_to_eager_tensor currently raises a ValueError, not a\u001b[0m\u001b[0;34m\u001b[0m\u001b[0;34m\u001b[0m\u001b[0;34m\u001b[0m\u001b[0m\n",
            "\u001b[0;32m/usr/local/lib/python3.7/dist-packages/tensorflow/python/ops/array_ops.py\u001b[0m in \u001b[0;36mslice\u001b[0;34m(input_, begin, size, name)\u001b[0m\n\u001b[1;32m   1101\u001b[0m     \u001b[0mA\u001b[0m\u001b[0;31m \u001b[0m\u001b[0;31m`\u001b[0m\u001b[0mTensor\u001b[0m\u001b[0;31m`\u001b[0m \u001b[0mthe\u001b[0m \u001b[0msame\u001b[0m \u001b[0mtype\u001b[0m \u001b[0;32mas\u001b[0m\u001b[0;31m \u001b[0m\u001b[0;31m`\u001b[0m\u001b[0minput_\u001b[0m\u001b[0;31m`\u001b[0m\u001b[0;34m.\u001b[0m\u001b[0;34m\u001b[0m\u001b[0;34m\u001b[0m\u001b[0m\n\u001b[1;32m   1102\u001b[0m   \"\"\"\n\u001b[0;32m-> 1103\u001b[0;31m   \u001b[0;32mreturn\u001b[0m \u001b[0mgen_array_ops\u001b[0m\u001b[0;34m.\u001b[0m\u001b[0m_slice\u001b[0m\u001b[0;34m(\u001b[0m\u001b[0minput_\u001b[0m\u001b[0;34m,\u001b[0m \u001b[0mbegin\u001b[0m\u001b[0;34m,\u001b[0m \u001b[0msize\u001b[0m\u001b[0;34m,\u001b[0m \u001b[0mname\u001b[0m\u001b[0;34m=\u001b[0m\u001b[0mname\u001b[0m\u001b[0;34m)\u001b[0m\u001b[0;34m\u001b[0m\u001b[0;34m\u001b[0m\u001b[0m\n\u001b[0m\u001b[1;32m   1104\u001b[0m \u001b[0;34m\u001b[0m\u001b[0m\n\u001b[1;32m   1105\u001b[0m \u001b[0;34m\u001b[0m\u001b[0m\n",
            "\u001b[0;32m/usr/local/lib/python3.7/dist-packages/tensorflow/python/ops/gen_array_ops.py\u001b[0m in \u001b[0;36m_slice\u001b[0;34m(input, begin, size, name)\u001b[0m\n\u001b[1;32m   9389\u001b[0m   \u001b[0;31m# Add nodes to the TensorFlow graph.\u001b[0m\u001b[0;34m\u001b[0m\u001b[0;34m\u001b[0m\u001b[0;34m\u001b[0m\u001b[0m\n\u001b[1;32m   9390\u001b[0m   _, _, _op, _outputs = _op_def_library._apply_op_helper(\n\u001b[0;32m-> 9391\u001b[0;31m         \"Slice\", input=input, begin=begin, size=size, name=name)\n\u001b[0m\u001b[1;32m   9392\u001b[0m   \u001b[0m_result\u001b[0m \u001b[0;34m=\u001b[0m \u001b[0m_outputs\u001b[0m\u001b[0;34m[\u001b[0m\u001b[0;34m:\u001b[0m\u001b[0;34m]\u001b[0m\u001b[0;34m\u001b[0m\u001b[0;34m\u001b[0m\u001b[0m\n\u001b[1;32m   9393\u001b[0m   \u001b[0;32mif\u001b[0m \u001b[0m_execute\u001b[0m\u001b[0;34m.\u001b[0m\u001b[0mmust_record_gradient\u001b[0m\u001b[0;34m(\u001b[0m\u001b[0;34m)\u001b[0m\u001b[0;34m:\u001b[0m\u001b[0;34m\u001b[0m\u001b[0;34m\u001b[0m\u001b[0m\n",
            "\u001b[0;32m/usr/local/lib/python3.7/dist-packages/tensorflow/python/framework/op_def_library.py\u001b[0m in \u001b[0;36m_apply_op_helper\u001b[0;34m(op_type_name, name, **keywords)\u001b[0m\n\u001b[1;32m    520\u001b[0m                 \u001b[0mdtype\u001b[0m\u001b[0;34m=\u001b[0m\u001b[0mdtype\u001b[0m\u001b[0;34m,\u001b[0m\u001b[0;34m\u001b[0m\u001b[0;34m\u001b[0m\u001b[0m\n\u001b[1;32m    521\u001b[0m                 \u001b[0mas_ref\u001b[0m\u001b[0;34m=\u001b[0m\u001b[0minput_arg\u001b[0m\u001b[0;34m.\u001b[0m\u001b[0mis_ref\u001b[0m\u001b[0;34m,\u001b[0m\u001b[0;34m\u001b[0m\u001b[0;34m\u001b[0m\u001b[0m\n\u001b[0;32m--> 522\u001b[0;31m                 preferred_dtype=default_dtype)\n\u001b[0m\u001b[1;32m    523\u001b[0m         \u001b[0;32mexcept\u001b[0m \u001b[0mTypeError\u001b[0m \u001b[0;32mas\u001b[0m \u001b[0merr\u001b[0m\u001b[0;34m:\u001b[0m\u001b[0;34m\u001b[0m\u001b[0;34m\u001b[0m\u001b[0m\n\u001b[1;32m    524\u001b[0m           \u001b[0;32mif\u001b[0m \u001b[0mdtype\u001b[0m \u001b[0;32mis\u001b[0m \u001b[0;32mNone\u001b[0m\u001b[0;34m:\u001b[0m\u001b[0;34m\u001b[0m\u001b[0;34m\u001b[0m\u001b[0m\n",
            "\u001b[0;32m/usr/local/lib/python3.7/dist-packages/tensorflow/python/profiler/trace.py\u001b[0m in \u001b[0;36mwrapped\u001b[0;34m(*args, **kwargs)\u001b[0m\n\u001b[1;32m    161\u001b[0m         \u001b[0;32mwith\u001b[0m \u001b[0mTrace\u001b[0m\u001b[0;34m(\u001b[0m\u001b[0mtrace_name\u001b[0m\u001b[0;34m,\u001b[0m \u001b[0;34m**\u001b[0m\u001b[0mtrace_kwargs\u001b[0m\u001b[0;34m)\u001b[0m\u001b[0;34m:\u001b[0m\u001b[0;34m\u001b[0m\u001b[0;34m\u001b[0m\u001b[0m\n\u001b[1;32m    162\u001b[0m           \u001b[0;32mreturn\u001b[0m \u001b[0mfunc\u001b[0m\u001b[0;34m(\u001b[0m\u001b[0;34m*\u001b[0m\u001b[0margs\u001b[0m\u001b[0;34m,\u001b[0m \u001b[0;34m**\u001b[0m\u001b[0mkwargs\u001b[0m\u001b[0;34m)\u001b[0m\u001b[0;34m\u001b[0m\u001b[0;34m\u001b[0m\u001b[0m\n\u001b[0;32m--> 163\u001b[0;31m       \u001b[0;32mreturn\u001b[0m \u001b[0mfunc\u001b[0m\u001b[0;34m(\u001b[0m\u001b[0;34m*\u001b[0m\u001b[0margs\u001b[0m\u001b[0;34m,\u001b[0m \u001b[0;34m**\u001b[0m\u001b[0mkwargs\u001b[0m\u001b[0;34m)\u001b[0m\u001b[0;34m\u001b[0m\u001b[0;34m\u001b[0m\u001b[0m\n\u001b[0m\u001b[1;32m    164\u001b[0m \u001b[0;34m\u001b[0m\u001b[0m\n\u001b[1;32m    165\u001b[0m     \u001b[0;32mreturn\u001b[0m \u001b[0mwrapped\u001b[0m\u001b[0;34m\u001b[0m\u001b[0;34m\u001b[0m\u001b[0m\n",
            "\u001b[0;32m/usr/local/lib/python3.7/dist-packages/tensorflow/python/framework/ops.py\u001b[0m in \u001b[0;36mconvert_to_tensor\u001b[0;34m(value, dtype, name, as_ref, preferred_dtype, dtype_hint, ctx, accepted_result_types)\u001b[0m\n\u001b[1;32m   1538\u001b[0m \u001b[0;34m\u001b[0m\u001b[0m\n\u001b[1;32m   1539\u001b[0m     \u001b[0;32mif\u001b[0m \u001b[0mret\u001b[0m \u001b[0;32mis\u001b[0m \u001b[0;32mNone\u001b[0m\u001b[0;34m:\u001b[0m\u001b[0;34m\u001b[0m\u001b[0;34m\u001b[0m\u001b[0m\n\u001b[0;32m-> 1540\u001b[0;31m       \u001b[0mret\u001b[0m \u001b[0;34m=\u001b[0m \u001b[0mconversion_func\u001b[0m\u001b[0;34m(\u001b[0m\u001b[0mvalue\u001b[0m\u001b[0;34m,\u001b[0m \u001b[0mdtype\u001b[0m\u001b[0;34m=\u001b[0m\u001b[0mdtype\u001b[0m\u001b[0;34m,\u001b[0m \u001b[0mname\u001b[0m\u001b[0;34m=\u001b[0m\u001b[0mname\u001b[0m\u001b[0;34m,\u001b[0m \u001b[0mas_ref\u001b[0m\u001b[0;34m=\u001b[0m\u001b[0mas_ref\u001b[0m\u001b[0;34m)\u001b[0m\u001b[0;34m\u001b[0m\u001b[0;34m\u001b[0m\u001b[0m\n\u001b[0m\u001b[1;32m   1541\u001b[0m \u001b[0;34m\u001b[0m\u001b[0m\n\u001b[1;32m   1542\u001b[0m     \u001b[0;32mif\u001b[0m \u001b[0mret\u001b[0m \u001b[0;32mis\u001b[0m \u001b[0mNotImplemented\u001b[0m\u001b[0;34m:\u001b[0m\u001b[0;34m\u001b[0m\u001b[0;34m\u001b[0m\u001b[0m\n",
            "\u001b[0;32m/usr/local/lib/python3.7/dist-packages/tensorflow/python/framework/constant_op.py\u001b[0m in \u001b[0;36m_constant_tensor_conversion_function\u001b[0;34m(v, dtype, name, as_ref)\u001b[0m\n\u001b[1;32m    337\u001b[0m                                          as_ref=False):\n\u001b[1;32m    338\u001b[0m   \u001b[0m_\u001b[0m \u001b[0;34m=\u001b[0m \u001b[0mas_ref\u001b[0m\u001b[0;34m\u001b[0m\u001b[0;34m\u001b[0m\u001b[0m\n\u001b[0;32m--> 339\u001b[0;31m   \u001b[0;32mreturn\u001b[0m \u001b[0mconstant\u001b[0m\u001b[0;34m(\u001b[0m\u001b[0mv\u001b[0m\u001b[0;34m,\u001b[0m \u001b[0mdtype\u001b[0m\u001b[0;34m=\u001b[0m\u001b[0mdtype\u001b[0m\u001b[0;34m,\u001b[0m \u001b[0mname\u001b[0m\u001b[0;34m=\u001b[0m\u001b[0mname\u001b[0m\u001b[0;34m)\u001b[0m\u001b[0;34m\u001b[0m\u001b[0;34m\u001b[0m\u001b[0m\n\u001b[0m\u001b[1;32m    340\u001b[0m \u001b[0;34m\u001b[0m\u001b[0m\n\u001b[1;32m    341\u001b[0m \u001b[0;34m\u001b[0m\u001b[0m\n",
            "\u001b[0;32m/usr/local/lib/python3.7/dist-packages/tensorflow/python/framework/constant_op.py\u001b[0m in \u001b[0;36mconstant\u001b[0;34m(value, dtype, shape, name)\u001b[0m\n\u001b[1;32m    263\u001b[0m   \"\"\"\n\u001b[1;32m    264\u001b[0m   return _constant_impl(value, dtype, shape, name, verify_shape=False,\n\u001b[0;32m--> 265\u001b[0;31m                         allow_broadcast=True)\n\u001b[0m\u001b[1;32m    266\u001b[0m \u001b[0;34m\u001b[0m\u001b[0m\n\u001b[1;32m    267\u001b[0m \u001b[0;34m\u001b[0m\u001b[0m\n",
            "\u001b[0;31mKeyboardInterrupt\u001b[0m: "
          ]
        }
      ]
    }
  ]
}